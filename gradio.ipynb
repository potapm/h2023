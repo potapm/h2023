{
 "cells": [
  {
   "cell_type": "code",
   "execution_count": 1,
   "id": "6785d11e",
   "metadata": {},
   "outputs": [
    {
     "name": "stdout",
     "output_type": "stream",
     "text": [
      "Requirement already satisfied: gradio in /root/miniconda3/lib/python3.10/site-packages (3.31.0)\n",
      "Requirement already satisfied: aiofiles in /root/miniconda3/lib/python3.10/site-packages (from gradio) (23.1.0)\n",
      "Requirement already satisfied: aiohttp in /root/miniconda3/lib/python3.10/site-packages (from gradio) (3.8.4)\n",
      "Requirement already satisfied: altair>=4.2.0 in /root/miniconda3/lib/python3.10/site-packages (from gradio) (5.0.0)\n",
      "Requirement already satisfied: fastapi in /root/miniconda3/lib/python3.10/site-packages (from gradio) (0.95.2)\n",
      "Requirement already satisfied: ffmpy in /root/miniconda3/lib/python3.10/site-packages (from gradio) (0.3.0)\n",
      "Requirement already satisfied: gradio-client>=0.2.4 in /root/miniconda3/lib/python3.10/site-packages (from gradio) (0.2.5)\n",
      "Requirement already satisfied: httpx in /root/miniconda3/lib/python3.10/site-packages (from gradio) (0.24.1)\n",
      "Requirement already satisfied: huggingface-hub>=0.13.0 in /root/miniconda3/lib/python3.10/site-packages (from gradio) (0.14.1)\n",
      "Requirement already satisfied: jinja2 in /root/miniconda3/lib/python3.10/site-packages (from gradio) (3.1.2)\n",
      "Requirement already satisfied: markdown-it-py[linkify]>=2.0.0 in /root/miniconda3/lib/python3.10/site-packages (from gradio) (2.2.0)\n",
      "Requirement already satisfied: markupsafe in /root/miniconda3/lib/python3.10/site-packages (from gradio) (2.1.1)\n",
      "Requirement already satisfied: matplotlib in /root/miniconda3/lib/python3.10/site-packages (from gradio) (3.7.1)\n",
      "Requirement already satisfied: mdit-py-plugins<=0.3.3 in /root/miniconda3/lib/python3.10/site-packages (from gradio) (0.3.3)\n",
      "Requirement already satisfied: numpy in /root/miniconda3/lib/python3.10/site-packages (from gradio) (1.23.5)\n",
      "Requirement already satisfied: orjson in /root/miniconda3/lib/python3.10/site-packages (from gradio) (3.8.12)\n",
      "Requirement already satisfied: pandas in /root/miniconda3/lib/python3.10/site-packages (from gradio) (1.5.3)\n",
      "Requirement already satisfied: pillow in /root/miniconda3/lib/python3.10/site-packages (from gradio) (9.4.0)\n",
      "Requirement already satisfied: pydantic in /root/miniconda3/lib/python3.10/site-packages (from gradio) (1.10.2)\n",
      "Requirement already satisfied: pydub in /root/miniconda3/lib/python3.10/site-packages (from gradio) (0.25.1)\n",
      "Requirement already satisfied: pygments>=2.12.0 in /root/miniconda3/lib/python3.10/site-packages (from gradio) (2.15.1)\n",
      "Requirement already satisfied: python-multipart in /root/miniconda3/lib/python3.10/site-packages (from gradio) (0.0.6)\n",
      "Requirement already satisfied: pyyaml in /root/miniconda3/lib/python3.10/site-packages (from gradio) (6.0)\n",
      "Requirement already satisfied: requests in /root/miniconda3/lib/python3.10/site-packages (from gradio) (2.28.1)\n",
      "Requirement already satisfied: semantic-version in /root/miniconda3/lib/python3.10/site-packages (from gradio) (2.10.0)\n",
      "Requirement already satisfied: typing-extensions in /root/miniconda3/lib/python3.10/site-packages (from gradio) (4.5.0)\n",
      "Requirement already satisfied: uvicorn>=0.14.0 in /root/miniconda3/lib/python3.10/site-packages (from gradio) (0.22.0)\n",
      "Requirement already satisfied: websockets>=10.0 in /root/miniconda3/lib/python3.10/site-packages (from gradio) (11.0.3)\n",
      "Requirement already satisfied: jsonschema>=3.0 in /root/miniconda3/lib/python3.10/site-packages (from altair>=4.2.0->gradio) (4.17.3)\n",
      "Requirement already satisfied: toolz in /root/miniconda3/lib/python3.10/site-packages (from altair>=4.2.0->gradio) (0.12.0)\n",
      "Requirement already satisfied: fsspec in /root/miniconda3/lib/python3.10/site-packages (from gradio-client>=0.2.4->gradio) (2023.5.0)\n",
      "Requirement already satisfied: packaging in /root/miniconda3/lib/python3.10/site-packages (from gradio-client>=0.2.4->gradio) (23.0)\n",
      "Requirement already satisfied: filelock in /root/miniconda3/lib/python3.10/site-packages (from huggingface-hub>=0.13.0->gradio) (3.12.0)\n",
      "Requirement already satisfied: tqdm>=4.42.1 in /root/miniconda3/lib/python3.10/site-packages (from huggingface-hub>=0.13.0->gradio) (4.65.0)\n",
      "Requirement already satisfied: mdurl~=0.1 in /root/miniconda3/lib/python3.10/site-packages (from markdown-it-py[linkify]>=2.0.0->gradio) (0.1.2)\n",
      "Requirement already satisfied: linkify-it-py<3,>=1 in /root/miniconda3/lib/python3.10/site-packages (from markdown-it-py[linkify]>=2.0.0->gradio) (2.0.2)\n",
      "Requirement already satisfied: python-dateutil>=2.8.1 in /root/miniconda3/lib/python3.10/site-packages (from pandas->gradio) (2.8.2)\n",
      "Requirement already satisfied: pytz>=2020.1 in /root/miniconda3/lib/python3.10/site-packages (from pandas->gradio) (2023.3)\n",
      "Requirement already satisfied: click>=7.0 in /root/miniconda3/lib/python3.10/site-packages (from uvicorn>=0.14.0->gradio) (8.1.3)\n",
      "Requirement already satisfied: h11>=0.8 in /root/miniconda3/lib/python3.10/site-packages (from uvicorn>=0.14.0->gradio) (0.14.0)\n",
      "Requirement already satisfied: attrs>=17.3.0 in /root/miniconda3/lib/python3.10/site-packages (from aiohttp->gradio) (23.1.0)\n",
      "Requirement already satisfied: charset-normalizer<4.0,>=2.0 in /root/miniconda3/lib/python3.10/site-packages (from aiohttp->gradio) (2.0.4)\n",
      "Requirement already satisfied: multidict<7.0,>=4.5 in /root/miniconda3/lib/python3.10/site-packages (from aiohttp->gradio) (6.0.4)\n",
      "Requirement already satisfied: async-timeout<5.0,>=4.0.0a3 in /root/miniconda3/lib/python3.10/site-packages (from aiohttp->gradio) (4.0.2)\n",
      "Requirement already satisfied: yarl<2.0,>=1.0 in /root/miniconda3/lib/python3.10/site-packages (from aiohttp->gradio) (1.9.2)\n",
      "Requirement already satisfied: frozenlist>=1.1.1 in /root/miniconda3/lib/python3.10/site-packages (from aiohttp->gradio) (1.3.3)\n",
      "Requirement already satisfied: aiosignal>=1.1.2 in /root/miniconda3/lib/python3.10/site-packages (from aiohttp->gradio) (1.3.1)\n",
      "Requirement already satisfied: starlette<0.28.0,>=0.27.0 in /root/miniconda3/lib/python3.10/site-packages (from fastapi->gradio) (0.27.0)\n",
      "Requirement already satisfied: certifi in /root/miniconda3/lib/python3.10/site-packages (from httpx->gradio) (2023.5.7)\n",
      "Requirement already satisfied: httpcore<0.18.0,>=0.15.0 in /root/miniconda3/lib/python3.10/site-packages (from httpx->gradio) (0.17.1)\n",
      "Requirement already satisfied: idna in /root/miniconda3/lib/python3.10/site-packages (from httpx->gradio) (3.4)\n",
      "Requirement already satisfied: sniffio in /root/miniconda3/lib/python3.10/site-packages (from httpx->gradio) (1.3.0)\n",
      "Requirement already satisfied: contourpy>=1.0.1 in /root/miniconda3/lib/python3.10/site-packages (from matplotlib->gradio) (1.0.7)\n",
      "Requirement already satisfied: cycler>=0.10 in /root/miniconda3/lib/python3.10/site-packages (from matplotlib->gradio) (0.11.0)\n",
      "Requirement already satisfied: fonttools>=4.22.0 in /root/miniconda3/lib/python3.10/site-packages (from matplotlib->gradio) (4.39.4)\n",
      "Requirement already satisfied: kiwisolver>=1.0.1 in /root/miniconda3/lib/python3.10/site-packages (from matplotlib->gradio) (1.4.4)\n",
      "Requirement already satisfied: pyparsing>=2.3.1 in /root/miniconda3/lib/python3.10/site-packages (from matplotlib->gradio) (3.0.9)\n",
      "Requirement already satisfied: urllib3<1.27,>=1.21.1 in /root/miniconda3/lib/python3.10/site-packages (from requests->gradio) (1.26.15)\n",
      "Requirement already satisfied: anyio<5.0,>=3.0 in /root/miniconda3/lib/python3.10/site-packages (from httpcore<0.18.0,>=0.15.0->httpx->gradio) (3.6.2)\n",
      "Requirement already satisfied: pyrsistent!=0.17.0,!=0.17.1,!=0.17.2,>=0.14.0 in /root/miniconda3/lib/python3.10/site-packages (from jsonschema>=3.0->altair>=4.2.0->gradio) (0.19.3)\n",
      "Requirement already satisfied: uc-micro-py in /root/miniconda3/lib/python3.10/site-packages (from linkify-it-py<3,>=1->markdown-it-py[linkify]>=2.0.0->gradio) (1.0.2)\n",
      "Requirement already satisfied: six>=1.5 in /root/miniconda3/lib/python3.10/site-packages (from python-dateutil>=2.8.1->pandas->gradio) (1.16.0)\n",
      "\u001b[33mWARNING: Running pip as the 'root' user can result in broken permissions and conflicting behaviour with the system package manager. It is recommended to use a virtual environment instead: https://pip.pypa.io/warnings/venv\u001b[0m\u001b[33m\n",
      "\u001b[0m"
     ]
    }
   ],
   "source": [
    "!pip install gradio"
   ]
  },
  {
   "cell_type": "code",
   "execution_count": 2,
   "id": "dd0e5690",
   "metadata": {
    "scrolled": false
   },
   "outputs": [
    {
     "name": "stdout",
     "output_type": "stream",
     "text": [
      "Running on local URL:  http://127.0.0.1:7860\n",
      "Running on public URL: https://b7e8fd9023bb300001.gradio.live\n",
      "\n",
      "This share link expires in 72 hours. For free permanent hosting and GPU upgrades (NEW!), check out Spaces: https://huggingface.co/spaces\n"
     ]
    },
    {
     "data": {
      "text/html": [
       "<div><iframe src=\"https://b7e8fd9023bb300001.gradio.live\" width=\"100%\" height=\"500\" allow=\"autoplay; camera; microphone; clipboard-read; clipboard-write;\" frameborder=\"0\" allowfullscreen></iframe></div>"
      ],
      "text/plain": [
       "<IPython.core.display.HTML object>"
      ]
     },
     "metadata": {},
     "output_type": "display_data"
    },
    {
     "name": "stdout",
     "output_type": "stream",
     "text": [
      "[<tempfile._TemporaryFileWrapper object at 0x7f941c0bf6d0>, <tempfile._TemporaryFileWrapper object at 0x7f941c0bc220>, <tempfile._TemporaryFileWrapper object at 0x7f941c0bfbe0>, <tempfile._TemporaryFileWrapper object at 0x7f941c0bde40>, <tempfile._TemporaryFileWrapper object at 0x7f941c0bdb70>]\n"
     ]
    },
    {
     "name": "stderr",
     "output_type": "stream",
     "text": [
      "\u001b[34m\u001b[1mdetect: \u001b[0mweights=['yolov5x6.pt'], source=./temp/, data=yolov5/data/coco128.yaml, imgsz=[640, 640], conf_thres=0.5, iou_thres=0.45, max_det=1000, device=, view_img=False, save_txt=False, save_conf=False, save_crop=True, nosave=False, classes=None, agnostic_nms=False, augment=False, visualize=False, update=False, project=./crop/, name=Cygnus, exist_ok=True, line_thickness=3, hide_labels=False, hide_conf=False, half=False, dnn=False, vid_stride=1\n",
      "YOLOv5 🚀 v7.0-168-gec2b853 Python-3.10.10 torch-2.0.1+cu117 CUDA:0 (Tesla P40, 24446MiB)\n",
      "\n",
      "Fusing layers... \n",
      "YOLOv5x6 summary: 574 layers, 140730220 parameters, 0 gradients\n",
      "image 1/8 /root/work/Hakaton/2023/CP2023_lebed/test/temp/1227728682__.jpg: 640x448 1 bird, 79.8ms\n",
      "image 2/8 /root/work/Hakaton/2023/CP2023_lebed/test/temp/1233594995__.jpg: 448x640 1 bird, 80.3ms\n",
      "image 3/8 /root/work/Hakaton/2023/CP2023_lebed/test/temp/1428357358__.jpg: 384x640 1 bird, 80.6ms\n",
      "image 4/8 /root/work/Hakaton/2023/CP2023_lebed/test/temp/1428556015__.jpg: 512x640 2 birds, 81.0ms\n",
      "image 5/8 /root/work/Hakaton/2023/CP2023_lebed/test/temp/1429232757__.jpg: 640x512 1 bird, 81.8ms\n",
      "image 6/8 /root/work/Hakaton/2023/CP2023_lebed/test/temp/image_2023-05-20_21-18-45__.png: 448x640 (no detections), 36.8ms\n",
      "image 7/8 /root/work/Hakaton/2023/CP2023_lebed/test/temp/image_2023-05-20_22-44-47__.png: 256x640 (no detections), 79.7ms\n",
      "image 8/8 /root/work/Hakaton/2023/CP2023_lebed/test/temp/image_2023-05-20_23-23-24__.png: 256x640 (no detections), 30.0ms\n",
      "Speed: 0.7ms pre-process, 68.8ms inference, 1.6ms NMS per image at shape (1, 3, 640, 640)\n",
      "Results saved to \u001b[1mcrop/Cygnus\u001b[0m\n"
     ]
    },
    {
     "name": "stdout",
     "output_type": "stream",
     "text": [
      "\u001b[31m\u001b[1mrequirements:\u001b[0m /root/miniconda3/lib/python3.10/site-packages/requirements.txt not found, check failed.\n",
      "Found 6 images belonging to 1 classes.\n",
      "6/6 [==============================] - 6s 22ms/step\n"
     ]
    },
    {
     "name": "stderr",
     "output_type": "stream",
     "text": [
      "/tmp/ipykernel_73668/1016277182.py:88: SettingWithCopyWarning: \n",
      "A value is trying to be set on a copy of a slice from a DataFrame\n",
      "\n",
      "See the caveats in the documentation: https://pandas.pydata.org/pandas-docs/stable/user_guide/indexing.html#returning-a-view-versus-a-copy\n",
      "  E['class'][E['class']==0]='Cygnus bewickii'\n"
     ]
    }
   ],
   "source": [
    "import gradio as gr\n",
    "import os\n",
    "import shutil\n",
    "import os\n",
    "\n",
    "import pandas as pd\n",
    "import numpy as np\n",
    "import tensorflow as tf\n",
    "\n",
    "gpus = tf.config.experimental.list_physical_devices('GPU')\n",
    "for gpu in gpus:\n",
    "    tf.config.experimental.set_memory_growth(gpu, True)\n",
    "\n",
    "def zip_files(files):\n",
    "    print(files)\n",
    "    for idx, file in enumerate(files):\n",
    "        shutil.move(file.name, './Upload/'+os.path.split(file.name)[1])\n",
    "        \n",
    "           \n",
    "    os.system(\"rm -r ./temp\")\n",
    "    os.system(\"rm -r ./temp2\")\n",
    "    os.system(\"rm -r ./crop\")\n",
    "    os.system(\"rm -r ./0\")\n",
    "    os.system(\"rm -r ./1\")\n",
    "    os.system(\"rm -r ./2\")\n",
    "    \n",
    "    os.system(\"mkdir ./temp2\")\n",
    "    os.system(\"mkdir ./crop\")    \n",
    "    os.system(\"mkdir ./temp\")\n",
    "    os.system(\"mkdir ./0\")\n",
    "    os.system(\"mkdir ./1\")\n",
    "    os.system(\"mkdir ./2\")\n",
    "    \n",
    "    os.system(\"cp -R ./Upload/* ./temp\")\n",
    "    subdirs = os.listdir('./temp')\n",
    "\n",
    "    for i in subdirs:\n",
    "        os.rename('./temp/'+i, './temp/'+i[:-4]+'__'+i[-4:])\n",
    "    os.system(\"python ./yolov5/detect.py --weights yolov5x6.pt  --conf 0.5 --save-crop --source ./temp/ --project ./crop/ --name Cygnus --exist-ok\")\n",
    "\n",
    "        \n",
    "    os.system(\"cp -R ./crop/Cygnus/crops/bird/* ./temp2\")\n",
    "        \n",
    "        \n",
    "    model = tf.keras.models.load_model(\"model_mobilenet_stage2.h5\", compile=False)\n",
    "    \n",
    "    \n",
    "    BATCH_SIZE = 1\n",
    "    IMG_SIZE = (224, 224)\n",
    "    \n",
    "    datagen = tf.keras.preprocessing.image.ImageDataGenerator()\n",
    "    filter_dataset = datagen.flow_from_directory('./temp2/',\n",
    "                                                 target_size=IMG_SIZE,\n",
    "                                                 batch_size=BATCH_SIZE,\n",
    "                                                 shuffle=False,\n",
    "                                                 classes=[''])\n",
    "    prediction = model.predict(filter_dataset, verbose=1)\n",
    "    fn = filter_dataset.filenames\n",
    "    \n",
    "    \n",
    "    \n",
    "    D = {}\n",
    "\n",
    "    cnt = 0\n",
    "    fn = filter_dataset.filenames\n",
    "    prediction1 = np.argmax(prediction[:, :], axis=1)\n",
    "    prediction2 = np.argmax(prediction[:, :-1], axis=1)\n",
    "    \n",
    "    for p1, p2 in zip(prediction1, prediction2):\n",
    "        D[fn[cnt]] = {'prediction_all': p1, 'prediction_no_other': p2}\n",
    "        cnt += 1\n",
    "    \n",
    "    D = pd.DataFrame(D)\n",
    "    D = D.T.reset_index()\n",
    "    D.columns = ['file_name', 'prediction_all', 'prediction_no_other']\n",
    "    D['crop_num'] = D['file_name'].apply(lambda x: x.split('__')[1]).values\n",
    "    D['file_name'] = D['file_name'].apply(lambda x: x.split('__')[0]+'.'+x.split('__')[1].split('.')[-1]).values\n",
    "\n",
    "    E=D.groupby(['file_name'])['prediction_no_other'].mean().astype(int).reset_index()\n",
    "    E.columns = ['name', 'class']\n",
    "    E.to_csv(f\"submission_v2.csv\", sep=';', index = False)        \n",
    "\n",
    "    \n",
    "\n",
    "    for i in E.index:\n",
    "        shutil.copyfile('./Upload/'+E['name'].loc[i], './'+E['class'].loc[i].astype(str)+'/'+E['name'].loc[i])\n",
    "        \n",
    "    E['class'][E['class']==0]='Cygnus bewickii'\n",
    "    E['class'][E['class']==1]='Cygnus cygnus'\n",
    "    E['class'][E['class']==2]='Cygnus olor'\n",
    "    return E\n",
    "\n",
    "demo = gr.Interface(\n",
    "    zip_files,\n",
    "    gr.File(file_count=\"multiple\"),\n",
    "    \"text\"\n",
    ")\n",
    "\n",
    "if __name__ == \"__main__\":\n",
    "    demo.launch(share=True)"
   ]
  },
  {
   "cell_type": "code",
   "execution_count": null,
   "id": "8ea71b38",
   "metadata": {},
   "outputs": [],
   "source": []
  },
  {
   "cell_type": "code",
   "execution_count": null,
   "id": "a2405ed1",
   "metadata": {},
   "outputs": [],
   "source": []
  },
  {
   "cell_type": "code",
   "execution_count": null,
   "id": "7567dfc1",
   "metadata": {},
   "outputs": [],
   "source": []
  },
  {
   "cell_type": "code",
   "execution_count": null,
   "id": "121eb283",
   "metadata": {},
   "outputs": [],
   "source": []
  }
 ],
 "metadata": {
  "kernelspec": {
   "display_name": "Python 3 (ipykernel)",
   "language": "python",
   "name": "python3"
  },
  "language_info": {
   "codemirror_mode": {
    "name": "ipython",
    "version": 3
   },
   "file_extension": ".py",
   "mimetype": "text/x-python",
   "name": "python",
   "nbconvert_exporter": "python",
   "pygments_lexer": "ipython3",
   "version": "3.10.10"
  }
 },
 "nbformat": 4,
 "nbformat_minor": 5
}
