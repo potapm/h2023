{
 "cells": [
  {
   "cell_type": "code",
   "execution_count": null,
   "id": "2fbfbb91",
   "metadata": {},
   "outputs": [],
   "source": [
    "!pip install lxml\n",
    "!pip install requests\n",
    "!pip install beautifulsoup4"
   ]
  },
  {
   "cell_type": "code",
   "execution_count": null,
   "id": "f8f5adc6",
   "metadata": {},
   "outputs": [],
   "source": [
    "\n",
    "# scraper.py\n",
    "import requests\n",
    "from bs4 import BeautifulSoup\n",
    "\n",
    "url = 'https://russia.birds.watch/v2taxgal.php?s=91&l=ru&p=0'\n",
    "response = requests.get(url)\n",
    "soup = BeautifulSoup(response.text, 'lxml')\n"
   ]
  },
  {
   "cell_type": "code",
   "execution_count": null,
   "id": "28e3059d",
   "metadata": {},
   "outputs": [],
   "source": [
    "quotes = soup.find('table', class_='littlefont').find_all('a')\n",
    "for quote in quotes:\n",
    "    print(quote.get_attribute_list('href'))"
   ]
  },
  {
   "cell_type": "code",
   "execution_count": null,
   "id": "968c7b09",
   "metadata": {},
   "outputs": [],
   "source": []
  },
  {
   "cell_type": "code",
   "execution_count": null,
   "id": "42c5c3a8",
   "metadata": {},
   "outputs": [],
   "source": [
    "Cygnus_bewickii=[] \n",
    "for i in range(1,16):\n",
    "    url = 'https://russia.birds.watch/v2taxgal.php?s=91&l=ru&p='+str(i)+'&sortby=1&sor=desc&saut=all'\n",
    "    response = requests.get(url)\n",
    "    soup = BeautifulSoup(response.text, 'lxml')\n",
    "\n",
    "\n",
    "    quotes = soup.find('section', class_='orta').find_all('img')\n",
    "    for quote in quotes:\n",
    "        Cygnus_bewickii.append(quote.get_attribute_list('data-src'))\n",
    "        print(quote.get_attribute_list('data-src'))"
   ]
  },
  {
   "cell_type": "code",
   "execution_count": null,
   "id": "9de0473a",
   "metadata": {},
   "outputs": [],
   "source": [
    "Cygnus_bewickii"
   ]
  },
  {
   "cell_type": "code",
   "execution_count": null,
   "id": "e519aaa8",
   "metadata": {},
   "outputs": [],
   "source": [
    "with open('Cygnus_bewickii.txt', 'w') as f:\n",
    "    for line in Cygnus_bewickii:\n",
    "        f.write(f\"{line}\\n\")"
   ]
  },
  {
   "cell_type": "code",
   "execution_count": null,
   "id": "1cbc1c2a",
   "metadata": {},
   "outputs": [],
   "source": []
  },
  {
   "cell_type": "code",
   "execution_count": null,
   "id": "ffa76280",
   "metadata": {},
   "outputs": [],
   "source": []
  },
  {
   "cell_type": "code",
   "execution_count": null,
   "id": "f86c1e65",
   "metadata": {},
   "outputs": [],
   "source": [
    "Cygnus_olor=[] \n",
    "for i in range(1,15):\n",
    "    url = 'https://russia.birds.watch/v2taxgal.php?s=88&l=ru&p='+str(i)+'&sortby=1&sor=desc&saut=all'\n",
    "    response = requests.get(url)\n",
    "    soup = BeautifulSoup(response.text, 'lxml')\n",
    "\n",
    "\n",
    "    quotes = soup.find('section', class_='orta').find_all('img')\n",
    "    for quote in quotes:\n",
    "        Cygnus_olor.append(quote.get_attribute_list('data-src'))\n",
    "        print(quote.get_attribute_list('data-src'))"
   ]
  },
  {
   "cell_type": "code",
   "execution_count": null,
   "id": "2ed12e95",
   "metadata": {},
   "outputs": [],
   "source": [
    "with open('Cygnus_olor.txt', 'w') as f:\n",
    "    for line in Cygnus_olor:\n",
    "        f.write(f\"{line}\\n\")"
   ]
  },
  {
   "cell_type": "code",
   "execution_count": null,
   "id": "2a69432a",
   "metadata": {},
   "outputs": [],
   "source": []
  },
  {
   "cell_type": "code",
   "execution_count": null,
   "id": "c2578370",
   "metadata": {},
   "outputs": [],
   "source": []
  },
  {
   "cell_type": "code",
   "execution_count": null,
   "id": "086379b3",
   "metadata": {},
   "outputs": [],
   "source": [
    "Cygnus_cygnus =[] \n",
    "for i in range(1,16):\n",
    "    url = 'https://russia.birds.watch/v2taxgal.php?s=89&l=ru&p='+str(i)+'&sortby=1&sor=desc&saut=all'\n",
    "    response = requests.get(url)\n",
    "    soup = BeautifulSoup(response.text, 'lxml')\n",
    "\n",
    "\n",
    "    quotes = soup.find('section', class_='orta').find_all('img')\n",
    "    for quote in quotes:\n",
    "        Cygnus_cygnus.append(quote.get_attribute_list('data-src'))\n",
    "        print(quote.get_attribute_list('data-src'))"
   ]
  },
  {
   "cell_type": "code",
   "execution_count": null,
   "id": "452e06e7",
   "metadata": {},
   "outputs": [],
   "source": [
    "with open('Cygnus_cygnus.txt', 'w') as f:\n",
    "    for line in Cygnus_cygnus:\n",
    "        f.write(f\"{line}\\n\")"
   ]
  },
  {
   "cell_type": "code",
   "execution_count": null,
   "id": "c109378a",
   "metadata": {},
   "outputs": [],
   "source": []
  },
  {
   "cell_type": "code",
   "execution_count": null,
   "id": "1926de0b",
   "metadata": {},
   "outputs": [],
   "source": []
  },
  {
   "cell_type": "code",
   "execution_count": null,
   "id": "092b7508",
   "metadata": {},
   "outputs": [],
   "source": []
  }
 ],
 "metadata": {
  "kernelspec": {
   "display_name": "Python 3 (ipykernel)",
   "language": "python",
   "name": "python3"
  },
  "language_info": {
   "codemirror_mode": {
    "name": "ipython",
    "version": 3
   },
   "file_extension": ".py",
   "mimetype": "text/x-python",
   "name": "python",
   "nbconvert_exporter": "python",
   "pygments_lexer": "ipython3",
   "version": "3.10.10"
  }
 },
 "nbformat": 4,
 "nbformat_minor": 5
}
