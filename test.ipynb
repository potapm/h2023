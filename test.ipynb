{
 "cells": [
  {
   "cell_type": "code",
   "execution_count": 1,
   "id": "4bf33cb4",
   "metadata": {},
   "outputs": [
    {
     "name": "stdout",
     "output_type": "stream",
     "text": [
      "Cloning into 'yolov5'...\n",
      "remote: Enumerating objects: 15679, done.\u001b[K\n",
      "remote: Counting objects: 100% (7/7), done.\u001b[K\n",
      "remote: Compressing objects: 100% (7/7), done.\u001b[K\n",
      "remote: Total 15679 (delta 1), reused 2 (delta 0), pack-reused 15672\u001b[K\n",
      "Receiving objects: 100% (15679/15679), 14.45 MiB | 1.35 MiB/s, done.\n",
      "Resolving deltas: 100% (10746/10746), done.\n"
     ]
    }
   ],
   "source": [
    "!git clone https://github.com/ultralytics/yolov5"
   ]
  },
  {
   "cell_type": "code",
   "execution_count": 2,
   "id": "42ba5e4d",
   "metadata": {},
   "outputs": [
    {
     "name": "stdout",
     "output_type": "stream",
     "text": [
      "Requirement already satisfied: gitpython>=3.1.30 in /root/miniconda3/lib/python3.10/site-packages (from -r ./yolov5/requirements.txt (line 5)) (3.1.31)\n",
      "Requirement already satisfied: matplotlib>=3.3 in /root/miniconda3/lib/python3.10/site-packages (from -r ./yolov5/requirements.txt (line 6)) (3.7.1)\n",
      "Requirement already satisfied: numpy>=1.18.5 in /root/miniconda3/lib/python3.10/site-packages (from -r ./yolov5/requirements.txt (line 7)) (1.23.5)\n",
      "Requirement already satisfied: opencv-python>=4.1.1 in /root/miniconda3/lib/python3.10/site-packages (from -r ./yolov5/requirements.txt (line 8)) (4.7.0.72)\n",
      "Requirement already satisfied: Pillow>=7.1.2 in /root/miniconda3/lib/python3.10/site-packages (from -r ./yolov5/requirements.txt (line 9)) (9.4.0)\n",
      "Requirement already satisfied: psutil in /root/miniconda3/lib/python3.10/site-packages (from -r ./yolov5/requirements.txt (line 10)) (5.9.0)\n",
      "Requirement already satisfied: PyYAML>=5.3.1 in /root/miniconda3/lib/python3.10/site-packages (from -r ./yolov5/requirements.txt (line 11)) (6.0)\n",
      "Requirement already satisfied: requests>=2.23.0 in /root/miniconda3/lib/python3.10/site-packages (from -r ./yolov5/requirements.txt (line 12)) (2.28.1)\n",
      "Requirement already satisfied: scipy>=1.4.1 in /root/miniconda3/lib/python3.10/site-packages (from -r ./yolov5/requirements.txt (line 13)) (1.10.1)\n",
      "Requirement already satisfied: thop>=0.1.1 in /root/miniconda3/lib/python3.10/site-packages (from -r ./yolov5/requirements.txt (line 14)) (0.1.1.post2209072238)\n",
      "Requirement already satisfied: torch>=1.7.0 in /root/miniconda3/lib/python3.10/site-packages (from -r ./yolov5/requirements.txt (line 15)) (2.0.0)\n",
      "Requirement already satisfied: torchvision>=0.8.1 in /root/miniconda3/lib/python3.10/site-packages (from -r ./yolov5/requirements.txt (line 16)) (0.15.1)\n",
      "Requirement already satisfied: tqdm>=4.64.0 in /root/miniconda3/lib/python3.10/site-packages (from -r ./yolov5/requirements.txt (line 17)) (4.64.1)\n",
      "Collecting ultralytics>=8.0.100 (from -r ./yolov5/requirements.txt (line 18))\n",
      "  Downloading ultralytics-8.0.105-py3-none-any.whl (586 kB)\n",
      "\u001b[2K     \u001b[90m━━━━━━━━━━━━━━━━━━━━━━━━━━━━━━━━━━━━━━━\u001b[0m \u001b[32m586.5/586.5 kB\u001b[0m \u001b[31m1.6 MB/s\u001b[0m eta \u001b[36m0:00:00\u001b[0ma \u001b[36m0:00:01\u001b[0m\n",
      "\u001b[?25hRequirement already satisfied: pandas>=1.1.4 in /root/miniconda3/lib/python3.10/site-packages (from -r ./yolov5/requirements.txt (line 27)) (1.5.3)\n",
      "Requirement already satisfied: seaborn>=0.11.0 in /root/miniconda3/lib/python3.10/site-packages (from -r ./yolov5/requirements.txt (line 28)) (0.12.2)\n",
      "Requirement already satisfied: setuptools>=65.5.1 in /root/miniconda3/lib/python3.10/site-packages (from -r ./yolov5/requirements.txt (line 42)) (65.6.3)\n",
      "Requirement already satisfied: gitdb<5,>=4.0.1 in /root/miniconda3/lib/python3.10/site-packages (from gitpython>=3.1.30->-r ./yolov5/requirements.txt (line 5)) (4.0.10)\n",
      "Requirement already satisfied: contourpy>=1.0.1 in /root/miniconda3/lib/python3.10/site-packages (from matplotlib>=3.3->-r ./yolov5/requirements.txt (line 6)) (1.0.7)\n",
      "Requirement already satisfied: cycler>=0.10 in /root/miniconda3/lib/python3.10/site-packages (from matplotlib>=3.3->-r ./yolov5/requirements.txt (line 6)) (0.11.0)\n",
      "Requirement already satisfied: fonttools>=4.22.0 in /root/miniconda3/lib/python3.10/site-packages (from matplotlib>=3.3->-r ./yolov5/requirements.txt (line 6)) (4.39.3)\n",
      "Requirement already satisfied: kiwisolver>=1.0.1 in /root/miniconda3/lib/python3.10/site-packages (from matplotlib>=3.3->-r ./yolov5/requirements.txt (line 6)) (1.4.4)\n",
      "Requirement already satisfied: packaging>=20.0 in /root/miniconda3/lib/python3.10/site-packages (from matplotlib>=3.3->-r ./yolov5/requirements.txt (line 6)) (23.1)\n",
      "Requirement already satisfied: pyparsing>=2.3.1 in /root/miniconda3/lib/python3.10/site-packages (from matplotlib>=3.3->-r ./yolov5/requirements.txt (line 6)) (3.0.9)\n",
      "Requirement already satisfied: python-dateutil>=2.7 in /root/miniconda3/lib/python3.10/site-packages (from matplotlib>=3.3->-r ./yolov5/requirements.txt (line 6)) (2.8.2)\n",
      "Requirement already satisfied: charset-normalizer<3,>=2 in /root/miniconda3/lib/python3.10/site-packages (from requests>=2.23.0->-r ./yolov5/requirements.txt (line 12)) (2.0.4)\n",
      "Requirement already satisfied: idna<4,>=2.5 in /root/miniconda3/lib/python3.10/site-packages (from requests>=2.23.0->-r ./yolov5/requirements.txt (line 12)) (3.4)\n",
      "Requirement already satisfied: urllib3<1.27,>=1.21.1 in /root/miniconda3/lib/python3.10/site-packages (from requests>=2.23.0->-r ./yolov5/requirements.txt (line 12)) (1.26.14)\n",
      "Requirement already satisfied: certifi>=2017.4.17 in /root/miniconda3/lib/python3.10/site-packages (from requests>=2.23.0->-r ./yolov5/requirements.txt (line 12)) (2022.12.7)\n",
      "Requirement already satisfied: filelock in /root/miniconda3/lib/python3.10/site-packages (from torch>=1.7.0->-r ./yolov5/requirements.txt (line 15)) (3.11.0)\n",
      "Requirement already satisfied: typing-extensions in /root/miniconda3/lib/python3.10/site-packages (from torch>=1.7.0->-r ./yolov5/requirements.txt (line 15)) (4.5.0)\n",
      "Requirement already satisfied: sympy in /root/miniconda3/lib/python3.10/site-packages (from torch>=1.7.0->-r ./yolov5/requirements.txt (line 15)) (1.11.1)\n",
      "Requirement already satisfied: networkx in /root/miniconda3/lib/python3.10/site-packages (from torch>=1.7.0->-r ./yolov5/requirements.txt (line 15)) (3.1)\n",
      "Requirement already satisfied: jinja2 in /root/miniconda3/lib/python3.10/site-packages (from torch>=1.7.0->-r ./yolov5/requirements.txt (line 15)) (3.1.2)\n",
      "Requirement already satisfied: nvidia-cuda-nvrtc-cu11==11.7.99 in /root/miniconda3/lib/python3.10/site-packages (from torch>=1.7.0->-r ./yolov5/requirements.txt (line 15)) (11.7.99)\n",
      "Requirement already satisfied: nvidia-cuda-runtime-cu11==11.7.99 in /root/miniconda3/lib/python3.10/site-packages (from torch>=1.7.0->-r ./yolov5/requirements.txt (line 15)) (11.7.99)\n",
      "Requirement already satisfied: nvidia-cuda-cupti-cu11==11.7.101 in /root/miniconda3/lib/python3.10/site-packages (from torch>=1.7.0->-r ./yolov5/requirements.txt (line 15)) (11.7.101)\n",
      "Requirement already satisfied: nvidia-cudnn-cu11==8.5.0.96 in /root/miniconda3/lib/python3.10/site-packages (from torch>=1.7.0->-r ./yolov5/requirements.txt (line 15)) (8.5.0.96)\n",
      "Requirement already satisfied: nvidia-cublas-cu11==11.10.3.66 in /root/miniconda3/lib/python3.10/site-packages (from torch>=1.7.0->-r ./yolov5/requirements.txt (line 15)) (11.10.3.66)\n",
      "Requirement already satisfied: nvidia-cufft-cu11==10.9.0.58 in /root/miniconda3/lib/python3.10/site-packages (from torch>=1.7.0->-r ./yolov5/requirements.txt (line 15)) (10.9.0.58)\n",
      "Requirement already satisfied: nvidia-curand-cu11==10.2.10.91 in /root/miniconda3/lib/python3.10/site-packages (from torch>=1.7.0->-r ./yolov5/requirements.txt (line 15)) (10.2.10.91)\n",
      "Requirement already satisfied: nvidia-cusolver-cu11==11.4.0.1 in /root/miniconda3/lib/python3.10/site-packages (from torch>=1.7.0->-r ./yolov5/requirements.txt (line 15)) (11.4.0.1)\n",
      "Requirement already satisfied: nvidia-cusparse-cu11==11.7.4.91 in /root/miniconda3/lib/python3.10/site-packages (from torch>=1.7.0->-r ./yolov5/requirements.txt (line 15)) (11.7.4.91)\n",
      "Requirement already satisfied: nvidia-nccl-cu11==2.14.3 in /root/miniconda3/lib/python3.10/site-packages (from torch>=1.7.0->-r ./yolov5/requirements.txt (line 15)) (2.14.3)\n",
      "Requirement already satisfied: nvidia-nvtx-cu11==11.7.91 in /root/miniconda3/lib/python3.10/site-packages (from torch>=1.7.0->-r ./yolov5/requirements.txt (line 15)) (11.7.91)\n",
      "Requirement already satisfied: triton==2.0.0 in /root/miniconda3/lib/python3.10/site-packages (from torch>=1.7.0->-r ./yolov5/requirements.txt (line 15)) (2.0.0)\n",
      "Requirement already satisfied: wheel in /root/miniconda3/lib/python3.10/site-packages (from nvidia-cublas-cu11==11.10.3.66->torch>=1.7.0->-r ./yolov5/requirements.txt (line 15)) (0.37.1)\n",
      "Requirement already satisfied: cmake in /root/miniconda3/lib/python3.10/site-packages (from triton==2.0.0->torch>=1.7.0->-r ./yolov5/requirements.txt (line 15)) (3.26.3)\n",
      "Requirement already satisfied: lit in /root/miniconda3/lib/python3.10/site-packages (from triton==2.0.0->torch>=1.7.0->-r ./yolov5/requirements.txt (line 15)) (16.0.1)\n",
      "Collecting sentry-sdk (from ultralytics>=8.0.100->-r ./yolov5/requirements.txt (line 18))\n",
      "  Downloading sentry_sdk-1.23.1-py2.py3-none-any.whl (205 kB)\n",
      "\u001b[2K     \u001b[90m━━━━━━━━━━━━━━━━━━━━━━━━━━━━━━━━━━━━━━━\u001b[0m \u001b[32m205.1/205.1 kB\u001b[0m \u001b[31m4.9 MB/s\u001b[0m eta \u001b[36m0:00:00\u001b[0ma \u001b[36m0:00:01\u001b[0m\n",
      "\u001b[?25hRequirement already satisfied: pytz>=2020.1 in /root/miniconda3/lib/python3.10/site-packages (from pandas>=1.1.4->-r ./yolov5/requirements.txt (line 27)) (2023.3)\n",
      "Requirement already satisfied: smmap<6,>=3.0.1 in /root/miniconda3/lib/python3.10/site-packages (from gitdb<5,>=4.0.1->gitpython>=3.1.30->-r ./yolov5/requirements.txt (line 5)) (5.0.0)\n",
      "Requirement already satisfied: six>=1.5 in /root/miniconda3/lib/python3.10/site-packages (from python-dateutil>=2.7->matplotlib>=3.3->-r ./yolov5/requirements.txt (line 6)) (1.16.0)\n",
      "Requirement already satisfied: MarkupSafe>=2.0 in /root/miniconda3/lib/python3.10/site-packages (from jinja2->torch>=1.7.0->-r ./yolov5/requirements.txt (line 15)) (2.1.1)\n",
      "Requirement already satisfied: mpmath>=0.19 in /root/miniconda3/lib/python3.10/site-packages (from sympy->torch>=1.7.0->-r ./yolov5/requirements.txt (line 15)) (1.3.0)\n",
      "Installing collected packages: sentry-sdk, ultralytics\n",
      "Successfully installed sentry-sdk-1.23.1 ultralytics-8.0.105\n",
      "\u001b[33mWARNING: Running pip as the 'root' user can result in broken permissions and conflicting behaviour with the system package manager. It is recommended to use a virtual environment instead: https://pip.pypa.io/warnings/venv\u001b[0m\u001b[33m\n",
      "\u001b[0m"
     ]
    }
   ],
   "source": [
    "!pip install -r ./yolov5/requirements.txt"
   ]
  },
  {
   "cell_type": "code",
   "execution_count": 6,
   "id": "7e50466e",
   "metadata": {},
   "outputs": [],
   "source": [
    "!cp -R ./test/* ./temp"
   ]
  },
  {
   "cell_type": "code",
   "execution_count": null,
   "id": "8a4f5c98",
   "metadata": {},
   "outputs": [],
   "source": [
    "rename 's/^/MyVacation2011_/g' *.jpg\n"
   ]
  },
  {
   "cell_type": "code",
   "execution_count": 3,
   "id": "2b7b8241",
   "metadata": {},
   "outputs": [
    {
     "name": "stdout",
     "output_type": "stream",
     "text": [
      "\u001b[34m\u001b[1mdetect: \u001b[0mweights=['yolov5x6.pt'], source=./test/, data=yolov5/data/coco128.yaml, imgsz=[640, 640], conf_thres=0.5, iou_thres=0.45, max_det=1000, device=, view_img=False, save_txt=False, save_conf=False, save_crop=True, nosave=False, classes=None, agnostic_nms=False, augment=False, visualize=False, update=False, project=./crop/, name=Cygnus, exist_ok=True, line_thickness=3, hide_labels=False, hide_conf=False, half=False, dnn=False, vid_stride=1\n",
      "\u001b[31m\u001b[1mrequirements:\u001b[0m /root/miniconda3/lib/python3.10/site-packages/requirements.txt not found, check failed.\n",
      "YOLOv5 🚀 v7.0-168-gec2b853 Python-3.10.9 torch-2.0.0+cu117 CUDA:0 (Tesla P40, 24446MiB)\n",
      "\n",
      "Downloading https://github.com/ultralytics/yolov5/releases/download/v7.0/yolov5x6.pt to yolov5x6.pt...\n",
      "100%|████████████████████████████████████████| 270M/270M [00:49<00:00, 5.74MB/s]\n",
      "\n",
      "Fusing layers... \n",
      "YOLOv5x6 summary: 574 layers, 140730220 parameters, 0 gradients\n",
      "image 1/17 /root/work/Hakaton/2023/CP2023_lebed/test/test/Brown_Pelican_0111_93872.jpg: 640x512 1 bird, 74.0ms\n",
      "image 2/17 /root/work/Hakaton/2023/CP2023_lebed/test/test/Brown_Pelican_0115_93731.jpg: 640x576 1 bird, 72.7ms\n",
      "image 3/17 /root/work/Hakaton/2023/CP2023_lebed/test/test/Brown_Pelican_0118_93475.jpg: 448x640 1 bird, 72.1ms\n",
      "image 4/17 /root/work/Hakaton/2023/CP2023_lebed/test/test/Brown_Pelican_0121_94067.jpg: 640x448 1 bird, 72.8ms\n",
      "image 5/17 /root/work/Hakaton/2023/CP2023_lebed/test/test/Brown_Pelican_0122_94022.jpg: 448x640 1 bird, 33.5ms\n",
      "image 6/17 /root/work/Hakaton/2023/CP2023_lebed/test/test/Brown_Pelican_0123_94368.jpg: 448x640 1 bird, 33.3ms\n",
      "image 7/17 /root/work/Hakaton/2023/CP2023_lebed/test/test/Brown_Pelican_0124_93684.jpg: 640x640 1 bird, 42.1ms\n",
      "image 8/17 /root/work/Hakaton/2023/CP2023_lebed/test/test/img_1677.jpg: 384x640 1 bird, 73.3ms\n",
      "image 9/17 /root/work/Hakaton/2023/CP2023_lebed/test/test/img_16852.jpg: 640x640 2 birds, 41.7ms\n",
      "image 10/17 /root/work/Hakaton/2023/CP2023_lebed/test/test/img_16892.jpg: 384x640 1 bird, 31.8ms\n",
      "image 11/17 /root/work/Hakaton/2023/CP2023_lebed/test/test/img_169.jpg: 512x640 1 bird, 75.2ms\n",
      "image 12/17 /root/work/Hakaton/2023/CP2023_lebed/test/test/img_1691.jpg: 320x640 1 bird, 76.2ms\n",
      "image 13/17 /root/work/Hakaton/2023/CP2023_lebed/test/test/original (58)2.jpg: 512x640 2 birds, 32.7ms\n",
      "image 14/17 /root/work/Hakaton/2023/CP2023_lebed/test/test/original (60)2.jpg: 640x512 1 bird, 32.6ms\n",
      "image 15/17 /root/work/Hakaton/2023/CP2023_lebed/test/test/original (60)3.jpg: 640x512 1 bird, 32.4ms\n",
      "image 16/17 /root/work/Hakaton/2023/CP2023_lebed/test/test/original (63)2.jpg: 448x640 1 bird, 30.6ms\n",
      "image 17/17 /root/work/Hakaton/2023/CP2023_lebed/test/test/original (71)4.jpg: 448x640 1 bird, 30.4ms\n",
      "Speed: 0.6ms pre-process, 50.4ms inference, 1.9ms NMS per image at shape (1, 3, 640, 640)\n",
      "Results saved to \u001b[1mcrop/Cygnus\u001b[0m\n"
     ]
    }
   ],
   "source": [
    "!python ./yolov5/detect.py --weights yolov5x6.pt  --conf 0.5 --save-crop --source ./temp/ --project ./crop/ --name Cygnus --exist-ok\n"
   ]
  },
  {
   "cell_type": "code",
   "execution_count": null,
   "id": "895d520a",
   "metadata": {},
   "outputs": [],
   "source": []
  },
  {
   "cell_type": "code",
   "execution_count": null,
   "id": "37d68ef6",
   "metadata": {},
   "outputs": [],
   "source": []
  }
 ],
 "metadata": {
  "kernelspec": {
   "display_name": "Python 3 (ipykernel)",
   "language": "python",
   "name": "python3"
  },
  "language_info": {
   "codemirror_mode": {
    "name": "ipython",
    "version": 3
   },
   "file_extension": ".py",
   "mimetype": "text/x-python",
   "name": "python",
   "nbconvert_exporter": "python",
   "pygments_lexer": "ipython3",
   "version": "3.10.9"
  }
 },
 "nbformat": 4,
 "nbformat_minor": 5
}
