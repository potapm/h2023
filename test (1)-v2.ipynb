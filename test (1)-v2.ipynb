{
 "cells": [
  {
   "cell_type": "code",
   "execution_count": null,
   "id": "91d09d55",
   "metadata": {},
   "outputs": [],
   "source": [
    "!git clone https://github.com/ultralytics/yolov5"
   ]
  },
  {
   "cell_type": "code",
   "execution_count": null,
   "id": "593cb2e4",
   "metadata": {},
   "outputs": [],
   "source": [
    "!pip install -r ./yolov5/requirements.txt"
   ]
  },
  {
   "cell_type": "code",
   "execution_count": null,
   "id": "5d6c465c",
   "metadata": {},
   "outputs": [],
   "source": [
    "!rm -r ./temp\n",
    "!rm -r ./temp2\n",
    "!rm -r ./crop\n",
    "!rm -r ./1\n",
    "!rm -r ./2\n",
    "!rm -r ./3\n",
    "\n",
    "!mkdir ./temp\n",
    "!mkdir ./1\n",
    "!mkdir ./2\n",
    "!mkdir ./3"
   ]
  },
  {
   "cell_type": "code",
   "execution_count": null,
   "id": "75b444ae",
   "metadata": {},
   "outputs": [],
   "source": [
    "!cp -R ./test/* ./temp"
   ]
  },
  {
   "cell_type": "code",
   "execution_count": null,
   "id": "21fb91d7",
   "metadata": {},
   "outputs": [],
   "source": [
    "import os\n",
    "\n",
    "subdirs = os.listdir('./temp')\n",
    "subdirs"
   ]
  },
  {
   "cell_type": "code",
   "execution_count": null,
   "id": "336aad4b",
   "metadata": {},
   "outputs": [],
   "source": [
    "for i in subdirs:\n",
    "    os.rename('./temp/'+i, './temp/'+i[:-4]+'__'+i[-4:])\n"
   ]
  },
  {
   "cell_type": "code",
   "execution_count": null,
   "id": "c37cb5ad",
   "metadata": {},
   "outputs": [],
   "source": []
  },
  {
   "cell_type": "code",
   "execution_count": null,
   "id": "5b5a795e",
   "metadata": {},
   "outputs": [],
   "source": [
    "!python ./yolov5/detect.py --weights yolov5x6.pt  --conf 0.5 --save-crop --source ./temp/ --project ./crop/ --name Cygnus --exist-ok\n"
   ]
  },
  {
   "cell_type": "code",
   "execution_count": null,
   "id": "bd212124",
   "metadata": {},
   "outputs": [],
   "source": [
    "!mkdir ./temp2\n",
    "!cp -R ./crop/Cygnus/crops/bird/* ./temp2"
   ]
  },
  {
   "cell_type": "code",
   "execution_count": null,
   "id": "3630d6d4",
   "metadata": {},
   "outputs": [],
   "source": []
  },
  {
   "cell_type": "code",
   "execution_count": null,
   "id": "3ae6b84a",
   "metadata": {},
   "outputs": [],
   "source": []
  },
  {
   "cell_type": "code",
   "execution_count": null,
   "id": "5694d9a5",
   "metadata": {
    "ExecuteTime": {
     "end_time": "2023-05-21T05:31:47.065051Z",
     "start_time": "2023-05-21T05:31:44.510519Z"
    }
   },
   "outputs": [],
   "source": [
    "import os\n",
    "\n",
    "import pandas as pd\n",
    "import numpy as np\n",
    "import tensorflow as tf"
   ]
  },
  {
   "cell_type": "code",
   "execution_count": null,
   "id": "9faac248",
   "metadata": {
    "ExecuteTime": {
     "end_time": "2023-05-21T05:31:47.083090Z",
     "start_time": "2023-05-21T05:31:47.069859Z"
    }
   },
   "outputs": [],
   "source": [
    "gpus = tf.config.experimental.list_physical_devices('GPU')\n",
    "for gpu in gpus:\n",
    "    tf.config.experimental.set_memory_growth(gpu, True)"
   ]
  },
  {
   "cell_type": "code",
   "execution_count": null,
   "id": "20b9896b",
   "metadata": {},
   "outputs": [],
   "source": []
  },
  {
   "cell_type": "code",
   "execution_count": 15,
   "id": "0703942c",
   "metadata": {
    "ExecuteTime": {
     "end_time": "2023-05-21T05:36:57.834830Z",
     "start_time": "2023-05-21T05:36:55.431683Z"
    }
   },
   "outputs": [],
   "source": [
    "class_names = ['Cygnus_bewickii', 'Cygnus_cygnus', 'Cygnus_olor', 'other_bird']\n",
    "\n",
    "model = tf.keras.models.load_model(\"model_mobilenet_stage2.h5\", compile=False)"
   ]
  },
  {
   "cell_type": "code",
   "execution_count": null,
   "id": "4bec6d71",
   "metadata": {},
   "outputs": [],
   "source": []
  },
  {
   "cell_type": "code",
   "execution_count": 16,
   "id": "8e44a2da",
   "metadata": {
    "ExecuteTime": {
     "end_time": "2023-05-21T05:36:59.881856Z",
     "start_time": "2023-05-21T05:36:57.838826Z"
    }
   },
   "outputs": [
    {
     "name": "stdout",
     "output_type": "stream",
     "text": [
      "Found 14 images belonging to 1 classes.\n",
      "14/14 [==============================] - 2s 49ms/step\n"
     ]
    }
   ],
   "source": [
    "BATCH_SIZE = 1\n",
    "IMG_SIZE = (224, 224)\n",
    "\n",
    "datagen = tf.keras.preprocessing.image.ImageDataGenerator()\n",
    "filter_dataset = datagen.flow_from_directory('./temp2/',\n",
    "                                             target_size=IMG_SIZE,\n",
    "                                             batch_size=BATCH_SIZE,\n",
    "                                             shuffle=False,\n",
    "                                             classes=[''])\n",
    "prediction = model.predict(filter_dataset, verbose=1)\n",
    "fn = filter_dataset.filenames"
   ]
  },
  {
   "cell_type": "code",
   "execution_count": 17,
   "id": "2cf6d8c1",
   "metadata": {
    "ExecuteTime": {
     "end_time": "2023-05-21T05:36:59.904822Z",
     "start_time": "2023-05-21T05:36:59.886265Z"
    }
   },
   "outputs": [],
   "source": [
    "D = {}\n",
    "\n",
    "cnt = 0\n",
    "fn = filter_dataset.filenames\n",
    "prediction1 = np.argmax(prediction[:, :], axis=1)\n",
    "prediction2 = np.argmax(prediction[:, :-1], axis=1)\n",
    "\n",
    "for p1, p2 in zip(prediction1, prediction2):\n",
    "    D[fn[cnt]] = {'prediction_all': p1, 'prediction_no_other': p2}\n",
    "    cnt += 1\n",
    "\n",
    "D = pd.DataFrame(D)\n",
    "D = D.T.reset_index()\n",
    "D.columns = ['file_name', 'prediction_all', 'prediction_no_other']\n",
    "D['crop_num'] = D['file_name'].apply(lambda x: x.split('__')[1]).values\n",
    "D['file_name'] = D['file_name'].apply(lambda x: x.split('__')[0]+'.'+x.split('__')[1].split('.')[-1]).values\n"
   ]
  },
  {
   "cell_type": "code",
   "execution_count": 18,
   "id": "d936119c",
   "metadata": {
    "ExecuteTime": {
     "end_time": "2023-05-21T05:36:59.951042Z",
     "start_time": "2023-05-21T05:36:59.910615Z"
    }
   },
   "outputs": [
    {
     "data": {
      "text/html": [
       "<div>\n",
       "<style scoped>\n",
       "    .dataframe tbody tr th:only-of-type {\n",
       "        vertical-align: middle;\n",
       "    }\n",
       "\n",
       "    .dataframe tbody tr th {\n",
       "        vertical-align: top;\n",
       "    }\n",
       "\n",
       "    .dataframe thead th {\n",
       "        text-align: right;\n",
       "    }\n",
       "</style>\n",
       "<table border=\"1\" class=\"dataframe\">\n",
       "  <thead>\n",
       "    <tr style=\"text-align: right;\">\n",
       "      <th></th>\n",
       "      <th>file_name</th>\n",
       "      <th>prediction_all</th>\n",
       "      <th>prediction_no_other</th>\n",
       "      <th>crop_num</th>\n",
       "    </tr>\n",
       "  </thead>\n",
       "  <tbody>\n",
       "    <tr>\n",
       "      <th>0</th>\n",
       "      <td>FileB.jpg</td>\n",
       "      <td>0</td>\n",
       "      <td>0</td>\n",
       "      <td>1.jpg</td>\n",
       "    </tr>\n",
       "    <tr>\n",
       "      <th>1</th>\n",
       "      <td>FileB.jpg</td>\n",
       "      <td>0</td>\n",
       "      <td>0</td>\n",
       "      <td>2.jpg</td>\n",
       "    </tr>\n",
       "    <tr>\n",
       "      <th>2</th>\n",
       "      <td>FileB.jpg</td>\n",
       "      <td>3</td>\n",
       "      <td>2</td>\n",
       "      <td>3.jpg</td>\n",
       "    </tr>\n",
       "    <tr>\n",
       "      <th>3</th>\n",
       "      <td>figC.jpg</td>\n",
       "      <td>2</td>\n",
       "      <td>2</td>\n",
       "      <td>1 (1).jpg</td>\n",
       "    </tr>\n",
       "    <tr>\n",
       "      <th>4</th>\n",
       "      <td>figC.jpg</td>\n",
       "      <td>2</td>\n",
       "      <td>2</td>\n",
       "      <td>1 (2).jpg</td>\n",
       "    </tr>\n",
       "    <tr>\n",
       "      <th>5</th>\n",
       "      <td>figC.jpg</td>\n",
       "      <td>2</td>\n",
       "      <td>2</td>\n",
       "      <td>1 (3).jpg</td>\n",
       "    </tr>\n",
       "    <tr>\n",
       "      <th>6</th>\n",
       "      <td>figD.png</td>\n",
       "      <td>2</td>\n",
       "      <td>2</td>\n",
       "      <td>1.png</td>\n",
       "    </tr>\n",
       "    <tr>\n",
       "      <th>7</th>\n",
       "      <td>figE.png</td>\n",
       "      <td>2</td>\n",
       "      <td>2</td>\n",
       "      <td>1.png</td>\n",
       "    </tr>\n",
       "    <tr>\n",
       "      <th>8</th>\n",
       "      <td>figF.png</td>\n",
       "      <td>1</td>\n",
       "      <td>1</td>\n",
       "      <td>1.png</td>\n",
       "    </tr>\n",
       "    <tr>\n",
       "      <th>9</th>\n",
       "      <td>figG.png</td>\n",
       "      <td>2</td>\n",
       "      <td>2</td>\n",
       "      <td>1.png</td>\n",
       "    </tr>\n",
       "    <tr>\n",
       "      <th>10</th>\n",
       "      <td>figH.png</td>\n",
       "      <td>0</td>\n",
       "      <td>0</td>\n",
       "      <td>1.png</td>\n",
       "    </tr>\n",
       "    <tr>\n",
       "      <th>11</th>\n",
       "      <td>figI.png</td>\n",
       "      <td>0</td>\n",
       "      <td>0</td>\n",
       "      <td>1.png</td>\n",
       "    </tr>\n",
       "    <tr>\n",
       "      <th>12</th>\n",
       "      <td>fileA.jpg</td>\n",
       "      <td>0</td>\n",
       "      <td>0</td>\n",
       "      <td>1.jpg</td>\n",
       "    </tr>\n",
       "    <tr>\n",
       "      <th>13</th>\n",
       "      <td>fileA.jpg</td>\n",
       "      <td>0</td>\n",
       "      <td>0</td>\n",
       "      <td>2.jpg</td>\n",
       "    </tr>\n",
       "  </tbody>\n",
       "</table>\n",
       "</div>"
      ],
      "text/plain": [
       "    file_name  prediction_all  prediction_no_other   crop_num\n",
       "0   FileB.jpg               0                    0      1.jpg\n",
       "1   FileB.jpg               0                    0      2.jpg\n",
       "2   FileB.jpg               3                    2      3.jpg\n",
       "3    figC.jpg               2                    2  1 (1).jpg\n",
       "4    figC.jpg               2                    2  1 (2).jpg\n",
       "5    figC.jpg               2                    2  1 (3).jpg\n",
       "6    figD.png               2                    2      1.png\n",
       "7    figE.png               2                    2      1.png\n",
       "8    figF.png               1                    1      1.png\n",
       "9    figG.png               2                    2      1.png\n",
       "10   figH.png               0                    0      1.png\n",
       "11   figI.png               0                    0      1.png\n",
       "12  fileA.jpg               0                    0      1.jpg\n",
       "13  fileA.jpg               0                    0      2.jpg"
      ]
     },
     "execution_count": 18,
     "metadata": {},
     "output_type": "execute_result"
    }
   ],
   "source": [
    "D"
   ]
  },
  {
   "cell_type": "code",
   "execution_count": 21,
   "id": "f4defb04",
   "metadata": {
    "ExecuteTime": {
     "end_time": "2023-05-21T05:37:18.927951Z",
     "start_time": "2023-05-21T05:37:18.892574Z"
    }
   },
   "outputs": [
    {
     "data": {
      "text/html": [
       "<div>\n",
       "<style scoped>\n",
       "    .dataframe tbody tr th:only-of-type {\n",
       "        vertical-align: middle;\n",
       "    }\n",
       "\n",
       "    .dataframe tbody tr th {\n",
       "        vertical-align: top;\n",
       "    }\n",
       "\n",
       "    .dataframe thead th {\n",
       "        text-align: right;\n",
       "    }\n",
       "</style>\n",
       "<table border=\"1\" class=\"dataframe\">\n",
       "  <thead>\n",
       "    <tr style=\"text-align: right;\">\n",
       "      <th></th>\n",
       "      <th>name</th>\n",
       "      <th>class</th>\n",
       "    </tr>\n",
       "  </thead>\n",
       "  <tbody>\n",
       "    <tr>\n",
       "      <th>0</th>\n",
       "      <td>FileB.jpg</td>\n",
       "      <td>1</td>\n",
       "    </tr>\n",
       "    <tr>\n",
       "      <th>1</th>\n",
       "      <td>figC.jpg</td>\n",
       "      <td>3</td>\n",
       "    </tr>\n",
       "    <tr>\n",
       "      <th>2</th>\n",
       "      <td>figD.png</td>\n",
       "      <td>3</td>\n",
       "    </tr>\n",
       "    <tr>\n",
       "      <th>3</th>\n",
       "      <td>figE.png</td>\n",
       "      <td>3</td>\n",
       "    </tr>\n",
       "    <tr>\n",
       "      <th>4</th>\n",
       "      <td>figF.png</td>\n",
       "      <td>2</td>\n",
       "    </tr>\n",
       "    <tr>\n",
       "      <th>5</th>\n",
       "      <td>figG.png</td>\n",
       "      <td>3</td>\n",
       "    </tr>\n",
       "    <tr>\n",
       "      <th>6</th>\n",
       "      <td>figH.png</td>\n",
       "      <td>1</td>\n",
       "    </tr>\n",
       "    <tr>\n",
       "      <th>7</th>\n",
       "      <td>figI.png</td>\n",
       "      <td>1</td>\n",
       "    </tr>\n",
       "    <tr>\n",
       "      <th>8</th>\n",
       "      <td>fileA.jpg</td>\n",
       "      <td>1</td>\n",
       "    </tr>\n",
       "  </tbody>\n",
       "</table>\n",
       "</div>"
      ],
      "text/plain": [
       "        name  class\n",
       "0  FileB.jpg      1\n",
       "1   figC.jpg      3\n",
       "2   figD.png      3\n",
       "3   figE.png      3\n",
       "4   figF.png      2\n",
       "5   figG.png      3\n",
       "6   figH.png      1\n",
       "7   figI.png      1\n",
       "8  fileA.jpg      1"
      ]
     },
     "execution_count": 21,
     "metadata": {},
     "output_type": "execute_result"
    }
   ],
   "source": [
    "# E = D.groupby(['file_name'])['prediction_no_other'].mean().astype(int).reset_index()\n",
    "# E.columns = ['name', 'class']  # comment!!\n",
    "# E\n",
    "\n",
    "results = {}\n",
    "\n",
    "for file_name in D['file_name'].unique():\n",
    "    sub = D[D.file_name == file_name]\n",
    "    try:\n",
    "        #TRY to delete other birds, when vote\n",
    "        res = sub[sub.prediction_all != 3]['prediction_all'].value_counts().index.values[0]\n",
    "    except Exception as e:\n",
    "        # if all crops are \"other birds\", try softmax without \"other bird\"\n",
    "        res = sub['prediction_no_other'].value_counts().index.values.values[0]\n",
    "\n",
    "    results[file_name] = [class_names[res]]\n",
    "\n",
    "submit = pd.DataFrame(results).T.reset_index()\n",
    "submit.columns = ['name', 'class']\n",
    "SMAP = {'Cygnus_olor': 3, 'Cygnus_bewickii': 1, 'Cygnus_cygnus': 2}\n",
    "submit['class'] = submit['class'].map(SMAP)\n",
    "\n",
    "E = submit.copy()\n",
    "E"
   ]
  },
  {
   "cell_type": "code",
   "execution_count": null,
   "id": "a316ae78",
   "metadata": {
    "ExecuteTime": {
     "end_time": "2023-05-21T05:35:45.747009Z",
     "start_time": "2023-05-21T05:35:45.742382Z"
    }
   },
   "outputs": [],
   "source": [
    "# E['class']=E['class']+1 # Do not need it\n",
    "# E"
   ]
  },
  {
   "cell_type": "code",
   "execution_count": 22,
   "id": "5c50601e",
   "metadata": {
    "ExecuteTime": {
     "end_time": "2023-05-21T05:37:39.920271Z",
     "start_time": "2023-05-21T05:37:39.905224Z"
    }
   },
   "outputs": [],
   "source": [
    "E.to_csv(f\"submission_v2.csv\", sep=';', index = False)"
   ]
  },
  {
   "cell_type": "code",
   "execution_count": null,
   "id": "accde32c",
   "metadata": {
    "ExecuteTime": {
     "end_time": "2023-05-21T05:37:40.526845Z",
     "start_time": "2023-05-21T05:37:40.490097Z"
    }
   },
   "outputs": [],
   "source": [
    "import shutil\n",
    "\n",
    "for i in E.index:\n",
    "    shutil.copyfile('./test/'+E['name'].loc[i], './'+E['class'].loc[i].astype(str)+'/'+E['name'].loc[i])\n",
    "    "
   ]
  },
  {
   "cell_type": "code",
   "execution_count": null,
   "id": "97fa4ebf",
   "metadata": {},
   "outputs": [],
   "source": []
  },
  {
   "cell_type": "code",
   "execution_count": null,
   "id": "bb5d639e",
   "metadata": {},
   "outputs": [],
   "source": []
  }
 ],
 "metadata": {
  "kernelspec": {
   "display_name": "Python 3 (ipykernel)",
   "language": "python",
   "name": "python3"
  },
  "language_info": {
   "codemirror_mode": {
    "name": "ipython",
    "version": 3
   },
   "file_extension": ".py",
   "mimetype": "text/x-python",
   "name": "python",
   "nbconvert_exporter": "python",
   "pygments_lexer": "ipython3",
   "version": "3.9.16"
  },
  "toc": {
   "base_numbering": 1,
   "nav_menu": {},
   "number_sections": true,
   "sideBar": true,
   "skip_h1_title": false,
   "title_cell": "Table of Contents",
   "title_sidebar": "Contents",
   "toc_cell": false,
   "toc_position": {},
   "toc_section_display": true,
   "toc_window_display": false
  }
 },
 "nbformat": 4,
 "nbformat_minor": 5
}
