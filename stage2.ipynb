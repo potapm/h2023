{
 "cells": [
  {
   "cell_type": "code",
   "execution_count": 1,
   "id": "961e63c2",
   "metadata": {
    "ExecuteTime": {
     "end_time": "2023-05-20T14:08:00.440874Z",
     "start_time": "2023-05-20T14:07:55.595302Z"
    },
    "id": "4d802fb0"
   },
   "outputs": [],
   "source": [
    "#!pip install tensorflow-gpu==2.8.3\n",
    "#!pip install tensorflow==2.8.3"
   ]
  },
  {
   "cell_type": "code",
   "execution_count": 2,
   "id": "380e9df4",
   "metadata": {
    "ExecuteTime": {
     "end_time": "2023-05-19T14:36:14.513255Z",
     "start_time": "2023-05-19T14:36:13.595136Z"
    },
    "colab": {
     "base_uri": "https://localhost:8080/"
    },
    "id": "33cef069",
    "outputId": "59ea43b0-79f8-4225-fced-61656a4a1e9e"
   },
   "outputs": [
    {
     "data": {
      "text/plain": [
       "219"
      ]
     },
     "execution_count": 2,
     "metadata": {},
     "output_type": "execute_result"
    }
   ],
   "source": [
    "import gc\n",
    "\n",
    "gc.enable()\n",
    "gc.collect()"
   ]
  },
  {
   "cell_type": "code",
   "execution_count": 3,
   "id": "c6a605c1",
   "metadata": {
    "ExecuteTime": {
     "end_time": "2023-05-19T14:36:41.425959Z",
     "start_time": "2023-05-19T14:36:14.517760Z"
    },
    "id": "2be8a748"
   },
   "outputs": [],
   "source": [
    "import matplotlib.pyplot as plt\n",
    "import numpy as np\n",
    "import os\n",
    "import tensorflow as tf"
   ]
  },
  {
   "cell_type": "code",
   "execution_count": 4,
   "id": "d594705d",
   "metadata": {},
   "outputs": [],
   "source": [
    "gpus = tf.config.experimental.list_physical_devices('GPU')\n",
    "for gpu in gpus:\n",
    "    tf.config.experimental.set_memory_growth(gpu, True)"
   ]
  },
  {
   "cell_type": "code",
   "execution_count": 5,
   "id": "bad85567",
   "metadata": {
    "ExecuteTime": {
     "end_time": "2023-05-19T14:36:41.443137Z",
     "start_time": "2023-05-19T14:36:41.433076Z"
    },
    "id": "703a8045"
   },
   "outputs": [],
   "source": [
    "PATH = ''\n",
    "\n",
    "train_dir = os.path.join(PATH, 'train')\n",
    "validation_dir = os.path.join(PATH, 'valid')\n",
    "\n",
    "BATCH_SIZE = 1024\n",
    "IMG_SIZE = (224, 224) "
   ]
  },
  {
   "cell_type": "code",
   "execution_count": 6,
   "id": "d285acf9",
   "metadata": {
    "ExecuteTime": {
     "end_time": "2023-05-19T14:36:42.899564Z",
     "start_time": "2023-05-19T14:36:41.447799Z"
    },
    "colab": {
     "base_uri": "https://localhost:8080/"
    },
    "id": "91497f90",
    "outputId": "76a983f5-99b8-4ab6-9aab-a885ba4adf8d"
   },
   "outputs": [
    {
     "name": "stdout",
     "output_type": "stream",
     "text": [
      "Found 15867 files belonging to 4 classes.\n"
     ]
    }
   ],
   "source": [
    "train_dataset = tf.keras.utils.image_dataset_from_directory(\n",
    "    train_dir,\n",
    "    shuffle=True,\n",
    "    batch_size=BATCH_SIZE,\n",
    "    image_size=IMG_SIZE,\n",
    "    label_mode='categorical')"
   ]
  },
  {
   "cell_type": "code",
   "execution_count": 7,
   "id": "3e8f4c04",
   "metadata": {
    "ExecuteTime": {
     "end_time": "2023-05-19T14:36:43.191220Z",
     "start_time": "2023-05-19T14:36:42.904902Z"
    },
    "colab": {
     "base_uri": "https://localhost:8080/"
    },
    "id": "2027fb44",
    "outputId": "61498ac3-f9af-44a5-d207-29bca68dd0f6"
   },
   "outputs": [
    {
     "name": "stdout",
     "output_type": "stream",
     "text": [
      "Found 3866 files belonging to 4 classes.\n"
     ]
    }
   ],
   "source": [
    "validation_dataset = tf.keras.utils.image_dataset_from_directory(\n",
    "    validation_dir,\n",
    "    shuffle=True,\n",
    "    batch_size=BATCH_SIZE,\n",
    "    image_size=IMG_SIZE,\n",
    "    label_mode='categorical')"
   ]
  },
  {
   "cell_type": "code",
   "execution_count": 8,
   "id": "28ae3198",
   "metadata": {
    "ExecuteTime": {
     "end_time": "2023-05-19T14:36:54.723104Z",
     "start_time": "2023-05-19T14:36:51.524550Z"
    },
    "id": "34bf5b14"
   },
   "outputs": [],
   "source": [
    "class_names = train_dataset.class_names"
   ]
  },
  {
   "cell_type": "code",
   "execution_count": 9,
   "id": "b5cc7eee",
   "metadata": {
    "ExecuteTime": {
     "end_time": "2023-05-19T14:37:07.677368Z",
     "start_time": "2023-05-19T14:37:07.667119Z"
    },
    "id": "49ca5882"
   },
   "outputs": [],
   "source": [
    "AUTOTUNE = tf.data.AUTOTUNE\n",
    "\n",
    "train_dataset = train_dataset.prefetch(buffer_size=AUTOTUNE)\n",
    "validation_dataset = validation_dataset.prefetch(buffer_size=AUTOTUNE)"
   ]
  },
  {
   "cell_type": "code",
   "execution_count": 10,
   "id": "936d8ad6",
   "metadata": {
    "ExecuteTime": {
     "end_time": "2023-05-19T14:37:09.378307Z",
     "start_time": "2023-05-19T14:37:09.348483Z"
    },
    "id": "27308ef8"
   },
   "outputs": [],
   "source": [
    "data_augmentation = tf.keras.Sequential([\n",
    "    tf.keras.layers.RandomFlip(\n",
    "        'horizontal_and_vertical'),  # 'horizontal_and_vertical'\n",
    "    tf.keras.layers.RandomRotation(0.2),\n",
    "    tf.keras.layers.RandomTranslation(0.2, 0.2),\n",
    "    tf.keras.layers.RandomZoom(0.2, 0.2),\n",
    "    tf.keras.layers.RandomContrast(0.4),\n",
    "])"
   ]
  },
  {
   "cell_type": "code",
   "execution_count": 11,
   "id": "c6ddfbcf",
   "metadata": {
    "ExecuteTime": {
     "end_time": "2023-05-19T14:37:10.090286Z",
     "start_time": "2023-05-19T14:37:10.083524Z"
    },
    "id": "5722e0fe"
   },
   "outputs": [],
   "source": [
    "# preprocess_input = tf.keras.applications.efficientnet_v2.preprocess_input  # EfficientnetV2!\n",
    "preprocess_input = tf.keras.applications.mobilenet_v3.preprocess_input"
   ]
  },
  {
   "cell_type": "code",
   "execution_count": 12,
   "id": "dda9d2a0",
   "metadata": {
    "ExecuteTime": {
     "end_time": "2023-05-19T14:37:14.023424Z",
     "start_time": "2023-05-19T14:37:10.627488Z"
    },
    "id": "85040758"
   },
   "outputs": [],
   "source": [
    "IMG_SHAPE = IMG_SIZE + (3, )\n",
    "\n",
    "# # EfficientnetV2!\n",
    "# base_model = tf.keras.applications.EfficientNetV2S(input_shape=IMG_SHAPE,\n",
    "#                                                include_top=False,\n",
    "#                                                weights='imagenet')\n",
    "\n",
    "base_model = tf.keras.applications.MobileNetV3Large(input_shape=IMG_SHAPE,\n",
    "                                                    include_top=False,\n",
    "                                                    weights='imagenet')"
   ]
  },
  {
   "cell_type": "code",
   "execution_count": 13,
   "id": "bbee9efb",
   "metadata": {
    "ExecuteTime": {
     "end_time": "2023-05-19T14:37:15.785714Z",
     "start_time": "2023-05-19T14:37:14.028663Z"
    },
    "id": "bcf9984b"
   },
   "outputs": [],
   "source": [
    "image_batch, label_batch = next(iter(train_dataset))\n",
    "feature_batch = base_model(image_batch)"
   ]
  },
  {
   "cell_type": "code",
   "execution_count": 14,
   "id": "7ef1d579",
   "metadata": {
    "ExecuteTime": {
     "end_time": "2023-05-19T14:37:15.805057Z",
     "start_time": "2023-05-19T14:37:15.788964Z"
    },
    "id": "254a36d7"
   },
   "outputs": [],
   "source": [
    "base_model.trainable = False"
   ]
  },
  {
   "cell_type": "code",
   "execution_count": 15,
   "id": "16f6f125",
   "metadata": {
    "ExecuteTime": {
     "end_time": "2023-05-19T14:37:15.831172Z",
     "start_time": "2023-05-19T14:37:15.817425Z"
    },
    "id": "1e4f964b"
   },
   "outputs": [],
   "source": [
    "global_average_layer = tf.keras.layers.GlobalAveragePooling2D()\n",
    "feature_batch_average = global_average_layer(feature_batch)"
   ]
  },
  {
   "cell_type": "code",
   "execution_count": 16,
   "id": "db9edcbd",
   "metadata": {
    "ExecuteTime": {
     "end_time": "2023-05-19T14:37:17.363250Z",
     "start_time": "2023-05-19T14:37:17.323014Z"
    },
    "colab": {
     "base_uri": "https://localhost:8080/"
    },
    "id": "bd8dd062",
    "outputId": "fcec3851-ec62-44c9-f89d-a52169c1a918"
   },
   "outputs": [
    {
     "name": "stdout",
     "output_type": "stream",
     "text": [
      "(1024, 4)\n"
     ]
    }
   ],
   "source": [
    "prediction_layer = tf.keras.layers.Dense(4, activation='softmax')\n",
    "prediction_batch = prediction_layer(feature_batch_average)\n",
    "print(prediction_batch.shape)"
   ]
  },
  {
   "cell_type": "code",
   "execution_count": 17,
   "id": "5e43cbb0",
   "metadata": {
    "ExecuteTime": {
     "end_time": "2023-05-19T14:37:21.116468Z",
     "start_time": "2023-05-19T14:37:19.892061Z"
    },
    "id": "5f847c4c"
   },
   "outputs": [],
   "source": [
    "inputs = tf.keras.Input(shape=(224, 224, 3))\n",
    "x = data_augmentation(inputs)\n",
    "x = preprocess_input(x)\n",
    "x = base_model(x, training=False)\n",
    "x = global_average_layer(x)\n",
    "x = tf.keras.layers.Dropout(0.2)(x)\n",
    "outputs = prediction_layer(x)\n",
    "model = tf.keras.Model(inputs, outputs)"
   ]
  },
  {
   "cell_type": "code",
   "execution_count": 18,
   "id": "21f678e9",
   "metadata": {
    "ExecuteTime": {
     "end_time": "2023-05-19T14:37:22.308521Z",
     "start_time": "2023-05-19T14:37:22.299780Z"
    },
    "colab": {
     "base_uri": "https://localhost:8080/"
    },
    "id": "f898ecb3",
    "outputId": "099e850e-8e30-4008-df40-763e841d39ed"
   },
   "outputs": [
    {
     "name": "stdout",
     "output_type": "stream",
     "text": [
      "Number of layers in the base model:  263\n"
     ]
    },
    {
     "data": {
      "text/plain": [
       "210"
      ]
     },
     "execution_count": 18,
     "metadata": {},
     "output_type": "execute_result"
    }
   ],
   "source": [
    "print(\"Number of layers in the base model: \", len(base_model.layers))\n",
    "N = len(base_model.layers)\n",
    "N = int(N * 0.8)\n",
    "N"
   ]
  },
  {
   "cell_type": "code",
   "execution_count": 19,
   "id": "86de27cc",
   "metadata": {
    "ExecuteTime": {
     "end_time": "2023-05-19T14:37:25.279530Z",
     "start_time": "2023-05-19T14:37:25.253584Z"
    },
    "id": "1526c431"
   },
   "outputs": [],
   "source": [
    "base_model.trainable = True\n",
    "\n",
    "fine_tune_at = N\n",
    "for layer in base_model.layers[:fine_tune_at]:\n",
    "    layer.trainable = False"
   ]
  },
  {
   "cell_type": "code",
   "execution_count": 20,
   "id": "c79c2df3",
   "metadata": {
    "ExecuteTime": {
     "end_time": "2023-05-19T14:37:25.592489Z",
     "start_time": "2023-05-19T14:37:25.546503Z"
    },
    "id": "fc50f7dc"
   },
   "outputs": [],
   "source": [
    "base_learning_rate = 0.000001\n",
    "model.compile(\n",
    "    optimizer=tf.keras.optimizers.Adam(learning_rate=base_learning_rate),\n",
    "    loss=tf.keras.losses.CategoricalCrossentropy(),\n",
    "    metrics=[tf.keras.metrics.CategoricalAccuracy()])"
   ]
  },
  {
   "cell_type": "code",
   "execution_count": 21,
   "id": "a17ec856",
   "metadata": {
    "ExecuteTime": {
     "end_time": "2023-05-19T14:37:27.881152Z",
     "start_time": "2023-05-19T14:37:27.797009Z"
    },
    "colab": {
     "base_uri": "https://localhost:8080/"
    },
    "id": "35098619",
    "outputId": "daa0e10d-c870-4495-9aab-d736e18c6ebb"
   },
   "outputs": [
    {
     "name": "stdout",
     "output_type": "stream",
     "text": [
      "Model: \"model\"\n",
      "_________________________________________________________________\n",
      " Layer (type)                Output Shape              Param #   \n",
      "=================================================================\n",
      " input_2 (InputLayer)        [(None, 224, 224, 3)]     0         \n",
      "                                                                 \n",
      " sequential (Sequential)     (None, 224, 224, 3)       0         \n",
      "                                                                 \n",
      " MobilenetV3large (Functiona  (None, 7, 7, 960)        2996352   \n",
      " l)                                                              \n",
      "                                                                 \n",
      " global_average_pooling2d (G  (None, 960)              0         \n",
      " lobalAveragePooling2D)                                          \n",
      "                                                                 \n",
      " dropout (Dropout)           (None, 960)               0         \n",
      "                                                                 \n",
      " dense (Dense)               (None, 4)                 3844      \n",
      "                                                                 \n",
      "=================================================================\n",
      "Total params: 3,000,196\n",
      "Trainable params: 1,754,404\n",
      "Non-trainable params: 1,245,792\n",
      "_________________________________________________________________\n"
     ]
    }
   ],
   "source": [
    "model.summary()"
   ]
  },
  {
   "cell_type": "code",
   "execution_count": 22,
   "id": "3cf84e81",
   "metadata": {
    "ExecuteTime": {
     "end_time": "2023-05-20T14:17:16.754251Z",
     "start_time": "2023-05-20T14:17:15.159980Z"
    },
    "id": "b9fbe0e3"
   },
   "outputs": [],
   "source": [
    "checkpoint_path = \"save2/ckpt-loss={loss:.4f}\"\n",
    "checkpoint_dir = os.path.dirname(checkpoint_path)\n",
    "\n",
    "# Create a callback that saves the model's weights\n",
    "checkpoint_callback = tf.keras.callbacks.ModelCheckpoint(\n",
    "    filepath=checkpoint_path, verbose=1, save_weights_only=False)"
   ]
  },
  {
   "cell_type": "code",
   "execution_count": 23,
   "id": "e098d5c5",
   "metadata": {
    "ExecuteTime": {
     "end_time": "2023-05-19T14:38:10.475154Z",
     "start_time": "2023-05-19T14:38:10.442706Z"
    },
    "colab": {
     "base_uri": "https://localhost:8080/"
    },
    "id": "8908b2c2",
    "outputId": "c61debd2-f169-42b4-f5a6-de1d341bf14b"
   },
   "outputs": [
    {
     "data": {
      "text/plain": [
       "['Cygnus_bewickii', 'Cygnus_cygnus', 'Cygnus_olor', 'other_bird']"
      ]
     },
     "execution_count": 23,
     "metadata": {},
     "output_type": "execute_result"
    }
   ],
   "source": [
    "class_names"
   ]
  },
  {
   "cell_type": "code",
   "execution_count": 24,
   "id": "b45ab213",
   "metadata": {
    "ExecuteTime": {
     "end_time": "2023-05-19T14:38:10.500476Z",
     "start_time": "2023-05-19T14:38:10.481622Z"
    },
    "code_folding": [],
    "id": "7980700a"
   },
   "outputs": [],
   "source": [
    "from collections import defaultdict\n",
    "\n",
    "ACC = []\n",
    "\n",
    "class AccuracyCallback(tf.keras.callbacks.Callback):\n",
    "\n",
    "    def __init__(self, validation_dataset):\n",
    "        self.validation_dataset = validation_dataset\n",
    "\n",
    "    def on_epoch_end(self, epoch, logs=None):\n",
    "\n",
    "        acc = defaultdict(lambda: [])\n",
    "\n",
    "        num_valid_batches = tf.data.experimental.cardinality(self.validation_dataset)\n",
    "\n",
    "        for images, labels in self.validation_dataset.take(num_valid_batches):\n",
    "\n",
    "            pred = self.model.predict(images, verbose=0).argmax(axis=1)\n",
    "            true = labels.numpy().argmax(axis=1)\n",
    "\n",
    "            for t, p in zip(true, pred):\n",
    "                acc[t].append(int(t == p))\n",
    "\n",
    "        message = '\\n'\n",
    "        for k in class_names:\n",
    "            v = acc[class_names.index(k)]\n",
    "            message += f\"acc - {k} : {np.round(np.mean(v), 3)}%, (n={len(v)})\\n\"\n",
    "        \n",
    "        ACC.append(message)\n",
    "\n",
    "        print(message + '\\n')"
   ]
  },
  {
   "cell_type": "code",
   "execution_count": null,
   "id": "7493385a",
   "metadata": {
    "ExecuteTime": {
     "start_time": "2023-05-19T14:37:58.380Z"
    },
    "id": "bcbd2a42"
   },
   "outputs": [
    {
     "name": "stdout",
     "output_type": "stream",
     "text": [
      "Epoch 1/50\n",
      "16/16 [==============================] - ETA: 0s - loss: 2.2823 - categorical_accuracy: 0.1941\n",
      "Epoch 1: saving model to save2/ckpt-loss=2.2823\n"
     ]
    },
    {
     "name": "stderr",
     "output_type": "stream",
     "text": [
      "2023-05-20 20:50:05.062183: W tensorflow/python/util/util.cc:368] Sets are not currently considered sequences, but this may change in the future, so consider avoiding using them.\n"
     ]
    },
    {
     "name": "stdout",
     "output_type": "stream",
     "text": [
      "INFO:tensorflow:Assets written to: save2/ckpt-loss=2.2823/assets\n",
      "\n",
      "acc - Cygnus_bewickii : 0.007%, (n=1313)\n",
      "acc - Cygnus_cygnus : 0.014%, (n=1289)\n",
      "acc - Cygnus_olor : 0.972%, (n=887)\n",
      "acc - other_bird : 0.019%, (n=377)\n",
      "\n",
      "\n",
      "16/16 [==============================] - 86s 5s/step - loss: 2.2823 - categorical_accuracy: 0.1941 - val_loss: 2.3498 - val_categorical_accuracy: 0.2318\n",
      "Epoch 2/50\n",
      "16/16 [==============================] - ETA: 0s - loss: 2.2488 - categorical_accuracy: 0.2083\n",
      "Epoch 2: saving model to save2/ckpt-loss=2.2488\n",
      "INFO:tensorflow:Assets written to: save2/ckpt-loss=2.2488/assets\n",
      "\n",
      "acc - Cygnus_bewickii : 0.008%, (n=1313)\n",
      "acc - Cygnus_cygnus : 0.016%, (n=1289)\n",
      "acc - Cygnus_olor : 0.972%, (n=887)\n",
      "acc - other_bird : 0.019%, (n=377)\n",
      "\n",
      "\n",
      "16/16 [==============================] - 72s 4s/step - loss: 2.2488 - categorical_accuracy: 0.2083 - val_loss: 2.3045 - val_categorical_accuracy: 0.2328\n",
      "Epoch 3/50\n",
      "16/16 [==============================] - ETA: 0s - loss: 2.2014 - categorical_accuracy: 0.2081\n",
      "Epoch 3: saving model to save2/ckpt-loss=2.2014\n",
      "INFO:tensorflow:Assets written to: save2/ckpt-loss=2.2014/assets\n",
      "\n",
      "acc - Cygnus_bewickii : 0.01%, (n=1313)\n",
      "acc - Cygnus_cygnus : 0.018%, (n=1289)\n",
      "acc - Cygnus_olor : 0.968%, (n=887)\n",
      "acc - other_bird : 0.021%, (n=377)\n",
      "\n",
      "\n",
      "16/16 [==============================] - 71s 4s/step - loss: 2.2014 - categorical_accuracy: 0.2081 - val_loss: 2.2609 - val_categorical_accuracy: 0.2336\n",
      "Epoch 4/50\n",
      "16/16 [==============================] - ETA: 0s - loss: 2.1658 - categorical_accuracy: 0.2012\n",
      "Epoch 4: saving model to save2/ckpt-loss=2.1658\n",
      "INFO:tensorflow:Assets written to: save2/ckpt-loss=2.1658/assets\n",
      "\n",
      "acc - Cygnus_bewickii : 0.013%, (n=1313)\n",
      "acc - Cygnus_cygnus : 0.019%, (n=1289)\n",
      "acc - Cygnus_olor : 0.966%, (n=887)\n",
      "acc - other_bird : 0.021%, (n=377)\n",
      "\n",
      "\n",
      "16/16 [==============================] - 68s 4s/step - loss: 2.1658 - categorical_accuracy: 0.2012 - val_loss: 2.2213 - val_categorical_accuracy: 0.2344\n",
      "Epoch 5/50\n",
      "16/16 [==============================] - ETA: 0s - loss: 2.1303 - categorical_accuracy: 0.2081\n",
      "Epoch 5: saving model to save2/ckpt-loss=2.1303\n",
      "INFO:tensorflow:Assets written to: save2/ckpt-loss=2.1303/assets\n",
      "\n",
      "acc - Cygnus_bewickii : 0.014%, (n=1313)\n",
      "acc - Cygnus_cygnus : 0.023%, (n=1289)\n",
      "acc - Cygnus_olor : 0.964%, (n=887)\n",
      "acc - other_bird : 0.021%, (n=377)\n",
      "\n",
      "\n",
      "16/16 [==============================] - 72s 4s/step - loss: 2.1303 - categorical_accuracy: 0.2081 - val_loss: 2.1841 - val_categorical_accuracy: 0.2356\n",
      "Epoch 6/50\n",
      "16/16 [==============================] - ETA: 0s - loss: 2.0933 - categorical_accuracy: 0.2133\n",
      "Epoch 6: saving model to save2/ckpt-loss=2.0933\n",
      "INFO:tensorflow:Assets written to: save2/ckpt-loss=2.0933/assets\n",
      "\n",
      "acc - Cygnus_bewickii : 0.015%, (n=1313)\n",
      "acc - Cygnus_cygnus : 0.026%, (n=1289)\n",
      "acc - Cygnus_olor : 0.961%, (n=887)\n",
      "acc - other_bird : 0.021%, (n=377)\n",
      "\n",
      "\n",
      "16/16 [==============================] - 67s 4s/step - loss: 2.0933 - categorical_accuracy: 0.2133 - val_loss: 2.1492 - val_categorical_accuracy: 0.2362\n",
      "Epoch 7/50\n",
      "16/16 [==============================] - ETA: 0s - loss: 2.0586 - categorical_accuracy: 0.2169\n",
      "Epoch 7: saving model to save2/ckpt-loss=2.0586\n",
      "INFO:tensorflow:Assets written to: save2/ckpt-loss=2.0586/assets\n",
      "\n",
      "acc - Cygnus_bewickii : 0.017%, (n=1313)\n",
      "acc - Cygnus_cygnus : 0.03%, (n=1289)\n",
      "acc - Cygnus_olor : 0.958%, (n=887)\n",
      "acc - other_bird : 0.021%, (n=377)\n",
      "\n",
      "\n",
      "16/16 [==============================] - 72s 4s/step - loss: 2.0586 - categorical_accuracy: 0.2169 - val_loss: 2.1169 - val_categorical_accuracy: 0.2377\n",
      "Epoch 8/50\n",
      "16/16 [==============================] - ETA: 0s - loss: 2.0462 - categorical_accuracy: 0.2203\n",
      "Epoch 8: saving model to save2/ckpt-loss=2.0462\n",
      "INFO:tensorflow:Assets written to: save2/ckpt-loss=2.0462/assets\n",
      "\n",
      "acc - Cygnus_bewickii : 0.021%, (n=1313)\n",
      "acc - Cygnus_cygnus : 0.034%, (n=1289)\n",
      "acc - Cygnus_olor : 0.957%, (n=887)\n",
      "acc - other_bird : 0.021%, (n=377)\n",
      "\n",
      "\n",
      "16/16 [==============================] - 71s 4s/step - loss: 2.0462 - categorical_accuracy: 0.2203 - val_loss: 2.0841 - val_categorical_accuracy: 0.2400\n",
      "Epoch 9/50\n",
      "16/16 [==============================] - ETA: 0s - loss: 2.0024 - categorical_accuracy: 0.2288\n",
      "Epoch 9: saving model to save2/ckpt-loss=2.0024\n",
      "INFO:tensorflow:Assets written to: save2/ckpt-loss=2.0024/assets\n",
      "\n",
      "acc - Cygnus_bewickii : 0.023%, (n=1313)\n",
      "acc - Cygnus_cygnus : 0.036%, (n=1289)\n",
      "acc - Cygnus_olor : 0.956%, (n=887)\n",
      "acc - other_bird : 0.021%, (n=377)\n",
      "\n",
      "\n",
      "16/16 [==============================] - 72s 4s/step - loss: 2.0024 - categorical_accuracy: 0.2288 - val_loss: 2.0534 - val_categorical_accuracy: 0.2413\n",
      "Epoch 10/50\n",
      "16/16 [==============================] - ETA: 0s - loss: 1.9919 - categorical_accuracy: 0.2289\n",
      "Epoch 10: saving model to save2/ckpt-loss=1.9919\n",
      "INFO:tensorflow:Assets written to: save2/ckpt-loss=1.9919/assets\n",
      "\n",
      "acc - Cygnus_bewickii : 0.026%, (n=1313)\n",
      "acc - Cygnus_cygnus : 0.04%, (n=1289)\n",
      "acc - Cygnus_olor : 0.949%, (n=887)\n",
      "acc - other_bird : 0.024%, (n=377)\n",
      "\n",
      "\n",
      "16/16 [==============================] - 66s 4s/step - loss: 1.9919 - categorical_accuracy: 0.2289 - val_loss: 2.0233 - val_categorical_accuracy: 0.2424\n",
      "Epoch 11/50\n",
      "16/16 [==============================] - ETA: 0s - loss: 1.9514 - categorical_accuracy: 0.2346\n",
      "Epoch 11: saving model to save2/ckpt-loss=1.9514\n",
      "INFO:tensorflow:Assets written to: save2/ckpt-loss=1.9514/assets\n",
      "\n",
      "acc - Cygnus_bewickii : 0.028%, (n=1313)\n",
      "acc - Cygnus_cygnus : 0.043%, (n=1289)\n",
      "acc - Cygnus_olor : 0.948%, (n=887)\n",
      "acc - other_bird : 0.024%, (n=377)\n",
      "\n",
      "\n",
      "16/16 [==============================] - 67s 4s/step - loss: 1.9514 - categorical_accuracy: 0.2346 - val_loss: 1.9940 - val_categorical_accuracy: 0.2437\n",
      "Epoch 12/50\n",
      "16/16 [==============================] - ETA: 0s - loss: 1.9167 - categorical_accuracy: 0.2373\n",
      "Epoch 12: saving model to save2/ckpt-loss=1.9167\n",
      "INFO:tensorflow:Assets written to: save2/ckpt-loss=1.9167/assets\n",
      "\n",
      "acc - Cygnus_bewickii : 0.031%, (n=1313)\n",
      "acc - Cygnus_cygnus : 0.045%, (n=1289)\n",
      "acc - Cygnus_olor : 0.945%, (n=887)\n",
      "acc - other_bird : 0.024%, (n=377)\n",
      "\n",
      "\n",
      "16/16 [==============================] - 73s 5s/step - loss: 1.9167 - categorical_accuracy: 0.2373 - val_loss: 1.9666 - val_categorical_accuracy: 0.2447\n",
      "Epoch 13/50\n",
      "16/16 [==============================] - ETA: 0s - loss: 1.9016 - categorical_accuracy: 0.2428\n",
      "Epoch 13: saving model to save2/ckpt-loss=1.9016\n",
      "INFO:tensorflow:Assets written to: save2/ckpt-loss=1.9016/assets\n",
      "\n",
      "acc - Cygnus_bewickii : 0.037%, (n=1313)\n",
      "acc - Cygnus_cygnus : 0.049%, (n=1289)\n",
      "acc - Cygnus_olor : 0.943%, (n=887)\n",
      "acc - other_bird : 0.024%, (n=377)\n",
      "\n",
      "\n",
      "16/16 [==============================] - 67s 4s/step - loss: 1.9016 - categorical_accuracy: 0.2428 - val_loss: 1.9409 - val_categorical_accuracy: 0.2473\n",
      "Epoch 14/50\n",
      "16/16 [==============================] - ETA: 0s - loss: 1.8874 - categorical_accuracy: 0.2389\n",
      "Epoch 14: saving model to save2/ckpt-loss=1.8874\n",
      "INFO:tensorflow:Assets written to: save2/ckpt-loss=1.8874/assets\n",
      "\n",
      "acc - Cygnus_bewickii : 0.04%, (n=1313)\n",
      "acc - Cygnus_cygnus : 0.054%, (n=1289)\n",
      "acc - Cygnus_olor : 0.939%, (n=887)\n",
      "acc - other_bird : 0.024%, (n=377)\n",
      "\n",
      "\n",
      "16/16 [==============================] - 71s 4s/step - loss: 1.8874 - categorical_accuracy: 0.2389 - val_loss: 1.9173 - val_categorical_accuracy: 0.2491\n",
      "Epoch 15/50\n",
      "16/16 [==============================] - ETA: 0s - loss: 1.8655 - categorical_accuracy: 0.2503\n",
      "Epoch 15: saving model to save2/ckpt-loss=1.8655\n",
      "INFO:tensorflow:Assets written to: save2/ckpt-loss=1.8655/assets\n",
      "\n",
      "acc - Cygnus_bewickii : 0.043%, (n=1313)\n",
      "acc - Cygnus_cygnus : 0.058%, (n=1289)\n",
      "acc - Cygnus_olor : 0.933%, (n=887)\n",
      "acc - other_bird : 0.024%, (n=377)\n",
      "\n",
      "\n",
      "16/16 [==============================] - 72s 4s/step - loss: 1.8655 - categorical_accuracy: 0.2503 - val_loss: 1.8948 - val_categorical_accuracy: 0.2504\n",
      "Epoch 16/50\n",
      "16/16 [==============================] - ETA: 0s - loss: 1.8383 - categorical_accuracy: 0.2535\n",
      "Epoch 16: saving model to save2/ckpt-loss=1.8383\n",
      "INFO:tensorflow:Assets written to: save2/ckpt-loss=1.8383/assets\n",
      "\n",
      "acc - Cygnus_bewickii : 0.045%, (n=1313)\n",
      "acc - Cygnus_cygnus : 0.064%, (n=1289)\n",
      "acc - Cygnus_olor : 0.931%, (n=887)\n",
      "acc - other_bird : 0.027%, (n=377)\n",
      "\n",
      "\n",
      "16/16 [==============================] - 72s 4s/step - loss: 1.8383 - categorical_accuracy: 0.2535 - val_loss: 1.8724 - val_categorical_accuracy: 0.2530\n"
     ]
    },
    {
     "name": "stdout",
     "output_type": "stream",
     "text": [
      "Epoch 17/50\n",
      "16/16 [==============================] - ETA: 0s - loss: 1.6407 - categorical_accuracy: 0.2981\n",
      "Epoch 30: saving model to save2/ckpt-loss=1.6407\n",
      "INFO:tensorflow:Assets written to: save2/ckpt-loss=1.6407/assets\n",
      "\n",
      "acc - Cygnus_bewickii : 0.114%, (n=1313)\n",
      "acc - Cygnus_cygnus : 0.099%, (n=1289)\n",
      "acc - Cygnus_olor : 0.891%, (n=887)\n",
      "acc - other_bird : 0.027%, (n=377)\n",
      "\n",
      "\n",
      "16/16 [==============================] - 72s 4s/step - loss: 1.6407 - categorical_accuracy: 0.2981 - val_loss: 1.6436 - val_categorical_accuracy: 0.2788\n",
      "Epoch 31/50\n",
      "16/16 [==============================] - ETA: 0s - loss: 1.6355 - categorical_accuracy: 0.2933\n",
      "Epoch 31: saving model to save2/ckpt-loss=1.6355\n",
      "INFO:tensorflow:Assets written to: save2/ckpt-loss=1.6355/assets\n",
      "\n",
      "acc - Cygnus_bewickii : 0.118%, (n=1313)\n",
      "acc - Cygnus_cygnus : 0.104%, (n=1289)\n",
      "acc - Cygnus_olor : 0.888%, (n=887)\n",
      "acc - other_bird : 0.027%, (n=377)\n",
      "\n",
      "\n",
      "16/16 [==============================] - 68s 4s/step - loss: 1.6355 - categorical_accuracy: 0.2933 - val_loss: 1.6324 - val_categorical_accuracy: 0.2812\n",
      "Epoch 32/50\n",
      "16/16 [==============================] - ETA: 0s - loss: 1.6330 - categorical_accuracy: 0.2969\n",
      "Epoch 32: saving model to save2/ckpt-loss=1.6330\n",
      "INFO:tensorflow:Assets written to: save2/ckpt-loss=1.5082/assets\n",
      "\n",
      "acc - Cygnus_bewickii : 0.2%, (n=1313)\n",
      "acc - Cygnus_cygnus : 0.146%, (n=1289)\n",
      "acc - Cygnus_olor : 0.868%, (n=887)\n",
      "acc - other_bird : 0.029%, (n=377)\n",
      "\n",
      "\n",
      "16/16 [==============================] - 72s 4s/step - loss: 1.5082 - categorical_accuracy: 0.3301 - val_loss: 1.4904 - val_categorical_accuracy: 0.3184\n",
      "Epoch 47/50\n",
      "16/16 [==============================] - ETA: 0s - loss: 1.4974 - categorical_accuracy: 0.3302\n",
      "Epoch 47: saving model to save2/ckpt-loss=1.4974\n"
     ]
    }
   ],
   "source": [
    "history = model.fit(train_dataset,\n",
    "                    epochs=50,\n",
    "                    validation_data=validation_dataset, callbacks =  [checkpoint_callback, \n",
    "                                                                      AccuracyCallback(validation_dataset)])"
   ]
  },
  {
   "cell_type": "code",
   "execution_count": null,
   "id": "f786a53d",
   "metadata": {
    "id": "bSRpLeXR8zUW"
   },
   "outputs": [],
   "source": [
    "model.save('model_mobilenet_stage2.h5') # needs save to make sure it will load, if checkpoint is corrupted"
   ]
  },
  {
   "cell_type": "code",
   "execution_count": null,
   "id": "adbe5e4e",
   "metadata": {
    "id": "36c04929"
   },
   "outputs": [],
   "source": [
    "with open('acc_history.txt', 'w') as f:\n",
    "    f.write('\\n\\n'.join(ACC))"
   ]
  },
  {
   "cell_type": "code",
   "execution_count": null,
   "id": "85f0d51f",
   "metadata": {
    "id": "4fa92ecf"
   },
   "outputs": [],
   "source": []
  }
 ],
 "metadata": {
  "accelerator": "GPU",
  "colab": {
   "gpuType": "T4",
   "provenance": []
  },
  "gpuClass": "standard",
  "kernelspec": {
   "display_name": "Python 3 (ipykernel)",
   "language": "python",
   "name": "python3"
  },
  "language_info": {
   "codemirror_mode": {
    "name": "ipython",
    "version": 3
   },
   "file_extension": ".py",
   "mimetype": "text/x-python",
   "name": "python",
   "nbconvert_exporter": "python",
   "pygments_lexer": "ipython3",
   "version": "3.10.10"
  },
  "toc": {
   "base_numbering": 1,
   "nav_menu": {},
   "number_sections": true,
   "sideBar": true,
   "skip_h1_title": false,
   "title_cell": "Table of Contents",
   "title_sidebar": "Contents",
   "toc_cell": false,
   "toc_position": {},
   "toc_section_display": true,
   "toc_window_display": false
  }
 },
 "nbformat": 4,
 "nbformat_minor": 5
}
